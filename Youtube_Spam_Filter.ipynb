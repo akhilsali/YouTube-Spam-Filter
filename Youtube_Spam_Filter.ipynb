{
  "nbformat": 4,
  "nbformat_minor": 0,
  "metadata": {
    "colab": {
      "name": "Youtube Spam Filter.ipynb",
      "provenance": []
    },
    "kernelspec": {
      "name": "python3",
      "display_name": "Python 3"
    }
  },
  "cells": [
    {
      "cell_type": "markdown",
      "metadata": {
        "id": "IKDjNKrmFry_"
      },
      "source": [
        "## **<center>Spam comment filter using Naive Bayes Classifier**\n",
        "\n"
      ]
    },
    {
      "cell_type": "markdown",
      "metadata": {
        "id": "bGXwZh-bFqAW"
      },
      "source": [
        "In this notebook, I will be creating a spam filter using multinomial naive bayes algorithm without sci-kit learn, to filter out spam comments from Youtube videos.\n",
        "We have data of labelled youtube comments in five seperate files. So we'll train our model with four of them and use the fifth file for prediction and testing for accuracy. \n",
        "The data set used in this notebook can be found [here](https://www.kaggle.com/prashant111/youtube-spam-collection)"
      ]
    },
    {
      "cell_type": "code",
      "metadata": {
        "id": "znyTEURd2V36"
      },
      "source": [
        "all_files=[\"Youtube01-Psy.csv\",\"Youtube02-KatyPerry.csv\",\"Youtube03-LMFAO.csv\",\"Youtube04-Eminem.csv\"]"
      ],
      "execution_count": 1,
      "outputs": []
    },
    {
      "cell_type": "code",
      "metadata": {
        "id": "YOqPcnHV1Mjz"
      },
      "source": [
        "list_=[]\n",
        "import pandas as pd\n",
        "for file_ in all_files:\n",
        "    frame = pd.read_csv((\"/content/drive/My Drive/Google colab data/Youtube spam/\"+file_),index_col=None, header=0)\n",
        "    list_.append(frame)\n",
        "\n",
        "# concatenate all dfs into one\n",
        "df = pd.concat(list_, ignore_index=True)"
      ],
      "execution_count": 2,
      "outputs": []
    },
    {
      "cell_type": "code",
      "metadata": {
        "id": "l6DLqao24mhs",
        "outputId": "6da333b5-5296-46d5-d25c-71a51798ec8a",
        "colab": {
          "base_uri": "https://localhost:8080/",
          "height": 606
        }
      },
      "source": [
        "df"
      ],
      "execution_count": 3,
      "outputs": [
        {
          "output_type": "execute_result",
          "data": {
            "text/html": [
              "<div>\n",
              "<style scoped>\n",
              "    .dataframe tbody tr th:only-of-type {\n",
              "        vertical-align: middle;\n",
              "    }\n",
              "\n",
              "    .dataframe tbody tr th {\n",
              "        vertical-align: top;\n",
              "    }\n",
              "\n",
              "    .dataframe thead th {\n",
              "        text-align: right;\n",
              "    }\n",
              "</style>\n",
              "<table border=\"1\" class=\"dataframe\">\n",
              "  <thead>\n",
              "    <tr style=\"text-align: right;\">\n",
              "      <th></th>\n",
              "      <th>COMMENT_ID</th>\n",
              "      <th>AUTHOR</th>\n",
              "      <th>DATE</th>\n",
              "      <th>CONTENT</th>\n",
              "      <th>CLASS</th>\n",
              "    </tr>\n",
              "  </thead>\n",
              "  <tbody>\n",
              "    <tr>\n",
              "      <th>0</th>\n",
              "      <td>LZQPQhLyRh80UYxNuaDWhIGQYNQ96IuCg-AYWqNPjpU</td>\n",
              "      <td>Julius NM</td>\n",
              "      <td>2013-11-07T06:20:48</td>\n",
              "      <td>Huh, anyway check out this you[tube] channel: ...</td>\n",
              "      <td>1</td>\n",
              "    </tr>\n",
              "    <tr>\n",
              "      <th>1</th>\n",
              "      <td>LZQPQhLyRh_C2cTtd9MvFRJedxydaVW-2sNg5Diuo4A</td>\n",
              "      <td>adam riyati</td>\n",
              "      <td>2013-11-07T12:37:15</td>\n",
              "      <td>Hey guys check out my new channel and our firs...</td>\n",
              "      <td>1</td>\n",
              "    </tr>\n",
              "    <tr>\n",
              "      <th>2</th>\n",
              "      <td>LZQPQhLyRh9MSZYnf8djyk0gEF9BHDPYrrK-qCczIY8</td>\n",
              "      <td>Evgeny Murashkin</td>\n",
              "      <td>2013-11-08T17:34:21</td>\n",
              "      <td>just for test I have to say murdev.com</td>\n",
              "      <td>1</td>\n",
              "    </tr>\n",
              "    <tr>\n",
              "      <th>3</th>\n",
              "      <td>z13jhp0bxqncu512g22wvzkasxmvvzjaz04</td>\n",
              "      <td>ElNino Melendez</td>\n",
              "      <td>2013-11-09T08:28:43</td>\n",
              "      <td>me shaking my sexy ass on my channel enjoy ^_^ ﻿</td>\n",
              "      <td>1</td>\n",
              "    </tr>\n",
              "    <tr>\n",
              "      <th>4</th>\n",
              "      <td>z13fwbwp1oujthgqj04chlngpvzmtt3r3dw</td>\n",
              "      <td>GsMega</td>\n",
              "      <td>2013-11-10T16:05:38</td>\n",
              "      <td>watch?v=vtaRGgvGtWQ   Check this out .﻿</td>\n",
              "      <td>1</td>\n",
              "    </tr>\n",
              "    <tr>\n",
              "      <th>...</th>\n",
              "      <td>...</td>\n",
              "      <td>...</td>\n",
              "      <td>...</td>\n",
              "      <td>...</td>\n",
              "      <td>...</td>\n",
              "    </tr>\n",
              "    <tr>\n",
              "      <th>1581</th>\n",
              "      <td>LneaDw26bFu3RCmyrWyP9S6wh1h9dBv3X95g1HzKAb4</td>\n",
              "      <td>Dany PK</td>\n",
              "      <td>NaN</td>\n",
              "      <td>SUBSCRIBE TO MY CHANNEL X PLEASE!. SPARE</td>\n",
              "      <td>1</td>\n",
              "    </tr>\n",
              "    <tr>\n",
              "      <th>1582</th>\n",
              "      <td>LneaDw26bFsD65dtIvAEObWYIYnFTqQDKBek_Ypz3J8</td>\n",
              "      <td>SmexyFriedChicken</td>\n",
              "      <td>NaN</td>\n",
              "      <td>Check out my videos guy! :) Hope you guys had ...</td>\n",
              "      <td>1</td>\n",
              "    </tr>\n",
              "    <tr>\n",
              "      <th>1583</th>\n",
              "      <td>LneaDw26bFuvs-8oWkLpAFa6g3QHpWD8k7sbbMP3Bg8</td>\n",
              "      <td>The Guy That's Done Everything</td>\n",
              "      <td>NaN</td>\n",
              "      <td>3 yrs ago I had a health scare but thankfully ...</td>\n",
              "      <td>1</td>\n",
              "    </tr>\n",
              "    <tr>\n",
              "      <th>1584</th>\n",
              "      <td>z12hfp2wmyuqztkw504cgblyxtbsxjuzeow0k</td>\n",
              "      <td>Jesse Pinkman</td>\n",
              "      <td>2015-05-06T11:42:44.601000</td>\n",
              "      <td>Rihanna looks so beautiful with red hair ;)﻿</td>\n",
              "      <td>0</td>\n",
              "    </tr>\n",
              "    <tr>\n",
              "      <th>1585</th>\n",
              "      <td>z13tsbc5vvn0hdozz04chjt51lq1cvris0k</td>\n",
              "      <td>Gaming Gaming</td>\n",
              "      <td>2015-05-06T10:56:35.972000</td>\n",
              "      <td>857.482.940 views AWESOME !!!!!!!!!!!!!!!!!!!!...</td>\n",
              "      <td>0</td>\n",
              "    </tr>\n",
              "  </tbody>\n",
              "</table>\n",
              "<p>1586 rows × 5 columns</p>\n",
              "</div>"
            ],
            "text/plain": [
              "                                       COMMENT_ID  ... CLASS\n",
              "0     LZQPQhLyRh80UYxNuaDWhIGQYNQ96IuCg-AYWqNPjpU  ...     1\n",
              "1     LZQPQhLyRh_C2cTtd9MvFRJedxydaVW-2sNg5Diuo4A  ...     1\n",
              "2     LZQPQhLyRh9MSZYnf8djyk0gEF9BHDPYrrK-qCczIY8  ...     1\n",
              "3             z13jhp0bxqncu512g22wvzkasxmvvzjaz04  ...     1\n",
              "4             z13fwbwp1oujthgqj04chlngpvzmtt3r3dw  ...     1\n",
              "...                                           ...  ...   ...\n",
              "1581  LneaDw26bFu3RCmyrWyP9S6wh1h9dBv3X95g1HzKAb4  ...     1\n",
              "1582  LneaDw26bFsD65dtIvAEObWYIYnFTqQDKBek_Ypz3J8  ...     1\n",
              "1583  LneaDw26bFuvs-8oWkLpAFa6g3QHpWD8k7sbbMP3Bg8  ...     1\n",
              "1584        z12hfp2wmyuqztkw504cgblyxtbsxjuzeow0k  ...     0\n",
              "1585          z13tsbc5vvn0hdozz04chjt51lq1cvris0k  ...     0\n",
              "\n",
              "[1586 rows x 5 columns]"
            ]
          },
          "metadata": {
            "tags": []
          },
          "execution_count": 3
        }
      ]
    },
    {
      "cell_type": "markdown",
      "metadata": {
        "id": "l81yebnmJtab"
      },
      "source": [
        "# Data Cleaning"
      ]
    },
    {
      "cell_type": "markdown",
      "metadata": {
        "id": "RC1chDvnIFP9"
      },
      "source": [
        "Since, our aim is to classify comments as spam or not spam, we can drop the first three columns of the dataframe. Upon inspection of data, we can see that there are few tags, links and parsing errors that we need to clean up before we can create our classification model."
      ]
    },
    {
      "cell_type": "code",
      "metadata": {
        "id": "KX_cBsZYAei5"
      },
      "source": [
        "df.drop(columns=[\"COMMENT_ID\",\"AUTHOR\",\"DATE\"],inplace=True)"
      ],
      "execution_count": 4,
      "outputs": []
    },
    {
      "cell_type": "code",
      "metadata": {
        "id": "7t0Auqz1BA4w",
        "outputId": "b38ebe1e-d121-41da-b13d-9b34ae3b4f4f",
        "colab": {
          "base_uri": "https://localhost:8080/",
          "height": 35
        }
      },
      "source": [
        "df[\"CONTENT\"][700]"
      ],
      "execution_count": 5,
      "outputs": [
        {
          "output_type": "execute_result",
          "data": {
            "application/vnd.google.colaboratory.intrinsic+json": {
              "type": "string"
            },
            "text/plain": [
              "'<a href=\"http://www.youtube.com/watch?v=KQ6zr6kCPj8&amp;t=2m19s\">2:19</a> best part\\ufeff'"
            ]
          },
          "metadata": {
            "tags": []
          },
          "execution_count": 5
        }
      ]
    },
    {
      "cell_type": "code",
      "metadata": {
        "id": "wc4utzYVBE2a"
      },
      "source": [
        "import html\n",
        "df[\"CONTENT\"]=df[\"CONTENT\"].apply(html.unescape)\n",
        "df[\"CONTENT\"]=df[\"CONTENT\"].str.replace(\"\\ufeff\",\"\")"
      ],
      "execution_count": 6,
      "outputs": []
    },
    {
      "cell_type": "code",
      "metadata": {
        "id": "MEgEgdPnBNRV",
        "outputId": "55d0941b-ae43-43f0-e88c-9399e312dc7d",
        "colab": {
          "base_uri": "https://localhost:8080/",
          "height": 35
        }
      },
      "source": [
        "df[\"CONTENT\"][700]"
      ],
      "execution_count": 7,
      "outputs": [
        {
          "output_type": "execute_result",
          "data": {
            "application/vnd.google.colaboratory.intrinsic+json": {
              "type": "string"
            },
            "text/plain": [
              "'<a href=\"http://www.youtube.com/watch?v=KQ6zr6kCPj8&t=2m19s\">2:19</a> best part'"
            ]
          },
          "metadata": {
            "tags": []
          },
          "execution_count": 7
        }
      ]
    },
    {
      "cell_type": "markdown",
      "metadata": {
        "id": "6V-keyVDIql3"
      },
      "source": [
        "To improve efficiency of our model, let's replace all link \n",
        "tags with a common word so that our algorithm treats all links as a single feature in our classification. Since all a-tags will have hyperlinks, lets replace them with a single word \"htmllink\"."
      ]
    },
    {
      "cell_type": "code",
      "metadata": {
        "id": "nyS_0z_aBQOn"
      },
      "source": [
        "df[\"CONTENT\"]=df[\"CONTENT\"].str.replace(\"(<a.+>)\",\"htmllink\")"
      ],
      "execution_count": 8,
      "outputs": []
    },
    {
      "cell_type": "markdown",
      "metadata": {
        "id": "mGsoe3p6JUG1"
      },
      "source": [
        "Now lets inspect all other tags and remove them as they are not relevant to our analysis. "
      ]
    },
    {
      "cell_type": "code",
      "metadata": {
        "id": "KS69suslBSyp",
        "outputId": "0cc19ded-fe39-45aa-cbcc-1b42d5c5200e",
        "colab": {
          "base_uri": "https://localhost:8080/",
          "height": 221
        }
      },
      "source": [
        "df[df[\"CONTENT\"].str.contains(\"<.+>\")][\"CONTENT\"]"
      ],
      "execution_count": 9,
      "outputs": [
        {
          "output_type": "execute_result",
          "data": {
            "text/plain": [
              "381                      <script>document.write('htmllink\n",
              "702     Hey guys, I'm a human.<br /><br /><br />But I ...\n",
              "708                                          Awsome<br />\n",
              "728                             Super awesome video<br />\n",
              "730     This Will Always Be My Favorite Song<br />But ...\n",
              "                              ...                        \n",
              "1406                    Hello. İ am from Azerbaijan<br />\n",
              "1409                EMINEM<3 <br />the best rapper ever<3\n",
              "1499    If you are a person that loves real music you ...\n",
              "1546               Love your songs<br />Supper cool<br />\n",
              "1566     Really good song .<br />you know love song song.\n",
              "Name: CONTENT, Length: 65, dtype: object"
            ]
          },
          "metadata": {
            "tags": []
          },
          "execution_count": 9
        }
      ]
    },
    {
      "cell_type": "code",
      "metadata": {
        "id": "4rA8mbIfBU1M"
      },
      "source": [
        "df[\"CONTENT\"]=df[\"CONTENT\"].str.replace(\"<.+>\",\"\")"
      ],
      "execution_count": 10,
      "outputs": []
    },
    {
      "cell_type": "code",
      "metadata": {
        "id": "itgAPgUgBYBE"
      },
      "source": [
        "df[\"CONTENT\"]=df[\"CONTENT\"].str.replace(\"\\'\",\"\")"
      ],
      "execution_count": 11,
      "outputs": []
    },
    {
      "cell_type": "code",
      "metadata": {
        "id": "nLuxtgiCBaNU"
      },
      "source": [
        "df[\"CONTENT\"]=df[\"CONTENT\"].str.lower()"
      ],
      "execution_count": 12,
      "outputs": []
    },
    {
      "cell_type": "code",
      "metadata": {
        "id": "0pfjhAmPBbq0",
        "outputId": "56a78324-b99b-4357-e6e8-f253660b9ee8",
        "colab": {
          "base_uri": "https://localhost:8080/",
          "height": 419
        }
      },
      "source": [
        "df[df[\"CONTENT\"].str.contains(\"\\.com|watch\\?\")]"
      ],
      "execution_count": 13,
      "outputs": [
        {
          "output_type": "execute_result",
          "data": {
            "text/html": [
              "<div>\n",
              "<style scoped>\n",
              "    .dataframe tbody tr th:only-of-type {\n",
              "        vertical-align: middle;\n",
              "    }\n",
              "\n",
              "    .dataframe tbody tr th {\n",
              "        vertical-align: top;\n",
              "    }\n",
              "\n",
              "    .dataframe thead th {\n",
              "        text-align: right;\n",
              "    }\n",
              "</style>\n",
              "<table border=\"1\" class=\"dataframe\">\n",
              "  <thead>\n",
              "    <tr style=\"text-align: right;\">\n",
              "      <th></th>\n",
              "      <th>CONTENT</th>\n",
              "      <th>CLASS</th>\n",
              "    </tr>\n",
              "  </thead>\n",
              "  <tbody>\n",
              "    <tr>\n",
              "      <th>2</th>\n",
              "      <td>just for test i have to say murdev.com</td>\n",
              "      <td>1</td>\n",
              "    </tr>\n",
              "    <tr>\n",
              "      <th>4</th>\n",
              "      <td>watch?v=vtarggvgtwq   check this out .</td>\n",
              "      <td>1</td>\n",
              "    </tr>\n",
              "    <tr>\n",
              "      <th>12</th>\n",
              "      <td>https://twitter.com/gbphotographygb</td>\n",
              "      <td>1</td>\n",
              "    </tr>\n",
              "    <tr>\n",
              "      <th>14</th>\n",
              "      <td>please like :d https://premium.easypromosapp.c...</td>\n",
              "      <td>1</td>\n",
              "    </tr>\n",
              "    <tr>\n",
              "      <th>17</th>\n",
              "      <td>http://www.ebay.com/itm/171183229277?sspagenam...</td>\n",
              "      <td>1</td>\n",
              "    </tr>\n",
              "    <tr>\n",
              "      <th>...</th>\n",
              "      <td>...</td>\n",
              "      <td>...</td>\n",
              "    </tr>\n",
              "    <tr>\n",
              "      <th>1448</th>\n",
              "      <td>everyone come and check out the new gta 5 game...</td>\n",
              "      <td>1</td>\n",
              "    </tr>\n",
              "    <tr>\n",
              "      <th>1476</th>\n",
              "      <td>check out these lyrics /watch?v=yuttx04oyqq</td>\n",
              "      <td>1</td>\n",
              "    </tr>\n",
              "    <tr>\n",
              "      <th>1521</th>\n",
              "      <td>hello to everyone! please check out my video: ...</td>\n",
              "      <td>1</td>\n",
              "    </tr>\n",
              "    <tr>\n",
              "      <th>1522</th>\n",
              "      <td>/watch?v=aimbwbfqbzg watch and subscrible</td>\n",
              "      <td>1</td>\n",
              "    </tr>\n",
              "    <tr>\n",
              "      <th>1573</th>\n",
              "      <td>subscribe to my channel  /watch?v=nxk32i0hkds</td>\n",
              "      <td>1</td>\n",
              "    </tr>\n",
              "  </tbody>\n",
              "</table>\n",
              "<p>171 rows × 2 columns</p>\n",
              "</div>"
            ],
            "text/plain": [
              "                                                CONTENT  CLASS\n",
              "2                just for test i have to say murdev.com      1\n",
              "4                watch?v=vtarggvgtwq   check this out .      1\n",
              "12                  https://twitter.com/gbphotographygb      1\n",
              "14    please like :d https://premium.easypromosapp.c...      1\n",
              "17    http://www.ebay.com/itm/171183229277?sspagenam...      1\n",
              "...                                                 ...    ...\n",
              "1448  everyone come and check out the new gta 5 game...      1\n",
              "1476        check out these lyrics /watch?v=yuttx04oyqq      1\n",
              "1521  hello to everyone! please check out my video: ...      1\n",
              "1522          /watch?v=aimbwbfqbzg watch and subscrible      1\n",
              "1573      subscribe to my channel  /watch?v=nxk32i0hkds      1\n",
              "\n",
              "[171 rows x 2 columns]"
            ]
          },
          "metadata": {
            "tags": []
          },
          "execution_count": 13
        }
      ]
    },
    {
      "cell_type": "markdown",
      "metadata": {
        "id": "aarCfF_8JfIj"
      },
      "source": [
        "There are still few rows with links. Let's replace them too with \"htmllink\" and then remove all non-alpha numerical characters."
      ]
    },
    {
      "cell_type": "code",
      "metadata": {
        "id": "JldXxOkXBdhM",
        "outputId": "fbe1531d-5740-470b-b427-eb55abed41c1",
        "colab": {
          "base_uri": "https://localhost:8080/",
          "height": 35
        }
      },
      "source": [
        "df[\"CONTENT\"][1573]"
      ],
      "execution_count": 14,
      "outputs": [
        {
          "output_type": "execute_result",
          "data": {
            "application/vnd.google.colaboratory.intrinsic+json": {
              "type": "string"
            },
            "text/plain": [
              "'subscribe to my channel  /watch?v=nxk32i0hkds'"
            ]
          },
          "metadata": {
            "tags": []
          },
          "execution_count": 14
        }
      ]
    },
    {
      "cell_type": "code",
      "metadata": {
        "id": "SBVvASQeBqcu"
      },
      "source": [
        "df[\"CONTENT\"]=df[\"CONTENT\"].str.replace(r\"\\S*\\.com\\S*|\\S*watch\\?\\S*\",\"htmllink\")"
      ],
      "execution_count": 15,
      "outputs": []
    },
    {
      "cell_type": "code",
      "metadata": {
        "id": "p4lSppexBti7"
      },
      "source": [
        "df[\"CONTENT\"]=df[\"CONTENT\"].str.replace(\"\\W\",\" \")"
      ],
      "execution_count": 16,
      "outputs": []
    },
    {
      "cell_type": "code",
      "metadata": {
        "id": "gZGMv2E5Bvmi",
        "outputId": "25df95fa-40f9-42a2-ea9b-51d567feae70",
        "colab": {
          "base_uri": "https://localhost:8080/",
          "height": 35
        }
      },
      "source": [
        "df[\"CONTENT\"][1573]"
      ],
      "execution_count": 17,
      "outputs": [
        {
          "output_type": "execute_result",
          "data": {
            "application/vnd.google.colaboratory.intrinsic+json": {
              "type": "string"
            },
            "text/plain": [
              "'subscribe to my channel  htmllink'"
            ]
          },
          "metadata": {
            "tags": []
          },
          "execution_count": 17
        }
      ]
    },
    {
      "cell_type": "code",
      "metadata": {
        "id": "f-S9t6IDByKz",
        "outputId": "a32f7abb-cf27-4a75-abb3-3d4e663bdec6",
        "colab": {
          "base_uri": "https://localhost:8080/",
          "height": 35
        }
      },
      "source": [
        "df[\"CONTENT\"][14]"
      ],
      "execution_count": 18,
      "outputs": [
        {
          "output_type": "execute_result",
          "data": {
            "application/vnd.google.colaboratory.intrinsic+json": {
              "type": "string"
            },
            "text/plain": [
              "'please like  d htmllink'"
            ]
          },
          "metadata": {
            "tags": []
          },
          "execution_count": 18
        }
      ]
    },
    {
      "cell_type": "markdown",
      "metadata": {
        "id": "o3okrPGdKEtC"
      },
      "source": [
        "# 2. Model Creation"
      ]
    },
    {
      "cell_type": "code",
      "metadata": {
        "id": "ALPh81GNCR2t",
        "outputId": "04775299-31fc-4d2c-d2fc-695b15025cb9",
        "colab": {
          "base_uri": "https://localhost:8080/",
          "height": 68
        }
      },
      "source": [
        "df[\"CLASS\"].value_counts(normalize=True)"
      ],
      "execution_count": 19,
      "outputs": [
        {
          "output_type": "execute_result",
          "data": {
            "text/plain": [
              "1    0.52396\n",
              "0    0.47604\n",
              "Name: CLASS, dtype: float64"
            ]
          },
          "metadata": {
            "tags": []
          },
          "execution_count": 19
        }
      ]
    },
    {
      "cell_type": "markdown",
      "metadata": {
        "id": "VQnrFDj1KglJ"
      },
      "source": [
        "We need to find the two probabilities inorder to find out if a comment is spam or not:\n",
        "\n",
        "*  Probability that a comment is spam, given the words in the comment\n",
        "*   Probability that a comment is not spam, given the words in the comment\n",
        "\n",
        "To find these probabilities, we can use the formula shown below\n",
        "\n"
      ]
    },
    {
      "cell_type": "markdown",
      "metadata": {
        "id": "ZR6VuW8jR1oa"
      },
      "source": [
        "![prob1.png](data:image/png;base64,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)"
      ]
    },
    {
      "cell_type": "markdown",
      "metadata": {
        "id": "9bC4T9nxR5R7"
      },
      "source": [
        "Inorder to calculate the conditional probabilities of words (given its a spam or not), we can use the formula shown below:\n",
        "* Note that we will be using Laplace smoothing (alpha=1) for sample correction. We are using a correction to avoid a probability value to become zero just because probability of one of the words in the comment is zero (Since we perform multiplication). Check [this](\"https://medium.com/syncedreview/applying-multinomial-naive-bayes-to-nlp-problems-a-practical-explanation-4f5271768ebf\") blog out for a better explaination."
      ]
    },
    {
      "cell_type": "markdown",
      "metadata": {
        "id": "5Kd1pN_GSPuN"
      },
      "source": [
        "![prob2.png](data:image/png;base64,iVBORw0KGgoAAAANSUhEUgAAAyIAAAC5CAYAAADUBItDAAAAAXNSR0IArs4c6QAAAARnQU1BAACxjwv8YQUAAAAJcEhZcwAADsIAAA7CARUoSoAAADDvSURBVHhe7d1PyFxX/cfxiS7agpgWNxUXbcCFG02zUtykdSWIpNmJLtIsChaEtODC4p82v27cpdkpCG0RRReSdqUi2HYh6ELTggt3acGFgpIWESJW8pv3zXyS85ycO3NnnmfuM/PM+wWXeeb+OffvJN/vPefce+zm1ESSJEmSRvSh2ackSZIkjcZERJIkSdLoTEQkSZIkjc5ERJIkSdLoTEQkSZIkjc5ERJIkSdLoTEQkSZIkjc5ERJIkSdLoTEQkSZIkjc5ERJIkSdLoTEQkSZIkjc5ERJIkSdLoTEQkSZIkjc5ERJIkSdLoTEQkSZIkjc5ERJK0Vq+++urkkUcemRw7dmzy/PPPz8be8cYbb0wef/zxbvoTTzwxee+992ZTJElH2bGbU7O/JUlaC5KNxx57bHL//fdPrl+/Pht7B9OffvrpyVtvvTUbI0k66qwRkSStHQnGyZMnu9qOl19+eTb2DhIRakO0Po8++mizRkqSDouJiCRp7Wie9eKLL3Z/v/LKK91niekEypKk3WEiIklaK2pBGEg0zpw509V+lE2wMp1+JNp8aUZH7QoD5+6dd96ZXLx4sZsmSUOZiEiS1orgNLUdBLBI7QioDaGzujYfzefKJAR8p7ndpUuXJg8//HA3TpKGMBGRJK1VmYjw+dBDD01ee+217k46yunaXCQcJI2cLx46AM4bTe0uX77cTTcRkbQMn5olSVorglOa7gS1Ic8880x3Bz3Bazl9XW7cuNF93nvvvd3nUUaCwOOQSzSHI4GokwUeIlDWULVwfk6cODG5cOHCnnlJSnga2vHjx7t5kqBI0hDWiEiS1obgtA5883Qs7qITHI/VN+Spp56afOMb35h924tmRjQP45Pto79Dmh5tK+4zDhmGoCYE9ZPNUqtFQmkSImlZ1ohIktaGu+cEq3VQT0BLkx46r3P3nkB23c6fPz/58Ic/PPnRj340G3ML20JClCZHbC/bxLCopmCbZJ9WSbBY7s0337wrcWE8yeYYNVqSjh5rRCRJa0Nw3+qInsSDviKH2VGdpIOEiG3IHX0+2T6f4rVXXbPFuSU5yfjySWiSNISJiCRpLbhLTqLRCugZR98EOq7XAe6YEjzXd/TZPhORO1LzESRw1DCdO3euS0aYRmIiScswEZEkHTgC/LNnz3Z/0zE9fQlK1DrMqw0huKW2guVrZdDLuujTsQoCbJIh1lO+8b0vEWFd9G1hfQm+2b58b2HfWSZPnGI96XMBphPMU0bG80m5SZSYh+mr7ud+ca5IHNkmkkuas7300kvdvtBRnfNY9x+RpEVMRCRJB44g/urVq12fAp6O1erITOA6r28INSXXr1/v+mmUQT5BetnPgSCd7wnal5UEhDv8i8pgv65du9atj6SC7aKfC0E5T4+qUR7JzunTp7tgnflZT3k82P7XX3+9K5N9Zv9Y7sqVK904pnOcOBb72U+2fdXaJ7aX9VIDQuLGNrJfYDxD6xxL0jwmIpKkQ7MoMM5d9iQiCcpLBMQkA60ajCFYnkQCJBOLAn22gaCb9bF9LM9nXSNCOZRHIlVvW4J45BhQs0DZfE8CwnIsT7KU+VbdT8rZb60F667Xv2pyI0kmIpKkjZW77EkOCMipWXj33Xe77yABKAP7VRCgk4wQ/KdJWR9qQqjhKAPyVvJCmXkqWDAf42qMZz72hXL5fP/99/ckXlmvJB0VJiKSpI1G3wQCcgJx7r6niVOQnLSaeDGel/q1kgTUNRhJHBjPulqYRhJU921hPNsZrPvtt9++a7vKJk0l1sc+psYi62c9ScYYV69XkraZiYgkaaMlEE9tSKk1LkhaqEHo67vAsrUkDnWSEmWCEIyrkw7G0dSqrDWhaRRJTJ2IMC+1H+XyJCwkNpk387SSGEnaViYi2ml9wYY2m+dt9/C0KPpNIIkFgT3qPgtB0E4A39eHoZWIUCuBvjIpr05u2C5qUsr+F1yjddOt1Myk6VWQdNABvE5uyvL4nsSGvyXpKDAR0c4iKOA/+gQe2h51kKajj6c11Z218xteBb97aifKRwMzjoSHdfUlInXTKtZPUlInNYyjloSEg2WYzvZTLn+X/+5wPZdl8p3ajzoxybJ9NTyStG1MRLSTEsAQIPif+vZJ8Nd6XKqOHoL01IYEtRKtGg0QtNPM6YEHHrhrueDfAB4rTE0E1xPr4JMkpK9cliFB4JN1UDbJQuvfEcpgGymTpIPaGxIR1kdCUSY6lFH3JXnuuef21OQwD+uol5WkbXbsJg95lzYc/5Fzd3GRIU+U4Q7lqVOnumf0l3chx0ag8uSTT3YBx3e+853Z2DaCHl4iRgCUYCSPK00wtIvBCftNsJYmOlKQHPD0K95lclC/Da4zalD8b1OSDoY1Itoa/OdP0E7ykIHHbfIisIznDiiBQtnsocadRxKWw0xC4oMPPpj91Y87qtz5J6C6cOFCN9BWnPE8EYimJOWd011CYMgbq0nUpBLXRN1ZfL8oc8jNDknSQNSISNviypUr3IrshmlAPht7yzQhuT1tGnzMxu6Vea5duzYbc3imSVS3LS+88MJszN2mCVY3z5kzZ2Zj7rh+/frNhx56qBt22blz525OE7HZN+kWfhet382q+L3xW6z/3ZEkrc4aEW0VmiYFNQIlajioLQDz0TSjRjMmHom5LTUIaXJU7ytoorWrTbJKHJt0CJbA9dB618d+0JSSmld+d+W/Q5Kk1ZmIaKsk2OxrclEmGHWwQHDy5ptv3tUpdFPRDISOsag7wgbJ164nIhwDOgD3dTDW7klTvYNsfsm/G9zIYNj135wkHRQTEW2NssP6KgHGOoKTdSqTj767/SReB3nXd1txTunMP69vkHYHv3VqPvkNWVMmSZvLRERbI4kE+oLvshaknoeAhJqUIc2yCGhfeeWV2be7UbtSB718P8hgmLuubC/okN1qDsI8Q+/OpkaoLIdjyn4yfhmUwb4yoFV2jePCPOXxyTFrrZ8y2TY+F0lyWV4j2l1cV3lTuYm6JG0uExFtjfLOZqtWg4A1gTFPtqkDdILURUE7zXsIXHj6Fn0P+gJb5qmDbvpzMJ5HAx8UmoEET86aF+j3YbvY7xMnTnTHjX2iHL4TqLGfjKf8RUkUyzEfy928ebMb2Ge+950THqHKujimzJPEgu1gPMszvmxaxX4zjW3jc1EykvNqIiJwzfNEPZvrSdJmMxHR1kiQ2epszrQE0kyvm2PkDumiRITAl2V5RwdagS1BTuudJixLDcb169dnY/aPAJ8XrIF9WCUZoYxyGY4d+8DjgBnPJ9jXeYEb01g/x5d5SSAYOKbUaLT67bAu3teS45mXuXGMSTZ49HKmJdngOLKv2S4MTUSWOTZJqvYzLHsuNA6uu1ZiLEnaLCYi2goEfDwFB3yWwSB3zPnk7jxPtSFIrjt3J2Ds6/RdS2BbB8B8Ty1FHYQmwD/oAIgEgOAfSUYWBea1cv+TcORYsK95N0KdwAXznz9/vksa2Mca2zVkv5mHbWEbGMrEpTx+fJbThp63dO4fgm3Odqw6UIYkSVqNb1bXViAw5UWFuHTpUheYEozzScCazz4EjQTwJCplc6c+mZ8Anb+Du/Wg70KrLGof0tRokQT3L7zwwsI3qyfQT00M+0ptwtAAPcePWosctxJlU6tR7y9IHJLotZZln+nDQlOYHJ9aymcekp0yESIBIbmk5oR1J9HJOWCbhwT8vNwRm/xP2p/+9KfJL37xi9k3SdvsS1/60uTzn//87JuklZCISJtuGiB3LxNb9ZLNixB5QeAQefHhNEiejblVBsvnRYR1WbzwbJkXqA15oWGJ8k+ePNkts8y+gO1imb6XsaVcXg5Yy7HvW1+WnfeSSKZn/eV8/M14yqjXzfqY1tqmlmzHJvvjH/94+1g4ODhs9/C73/1u9suWtCqbZmkr5KlK6U+wbqnRSBMo7shT+8HAHXzUNQeZ3ofl9tORnRoEahLKJ2kNlW1t1Viwb32PRWa59P+g5qPG8WFZ+n7kuNTK48Q85XyZRo1IXX6m1dskSZKOBptmaePRlIcnL4FmWa2AeBGC2mWaZqFs6lM2uUpZZTMmtpGgfN620ZyKIDz9MPqaZtE0aV45TEsScu3atd4EIGhaRQLU18Qp29FqtkXiQjM0EsBW/5FMp0M95bRke0lWktgFx5QnnbWWz/Efso9YtmlWmYCt6uTsXRVD0TTr73//++ybpG3Gv5k2zZL2iURE2mQ05+FSZbh69eps7HLS1KqvaVJL1kkTKponBU2kGJ9xNC9apklW9DXNoqx5+5l9YRhyPBY1cZrX9Gr6H203bZoAzsbckWZVDOxLnzSZapWR8uv9yD6y7FDMX56nRcrjuOpAGZIkaTU2zdLGy534PPp1FVmuftLVPNztBp28y7v1uQNOkyXuqlMr0FcbsApqDeqag1KmcTduyPGY18SJY8t+sK+tWpg8haq1HmqWOCfoaz7FtqbWoW4Wxrmg/NZ5rbe5VZNTWjS9hfNIrdZ+hmVqQyRJUmWWkEgbqbzrPrTTch/uvk8D3tm3xaaBZu96y21adFecmoZpkH9zGlR3tSnRVyPCOObtwzr7tqsl28qxLLEt00C6Oy59NStZlo76JdbNMkxjefC9rhnJPnIsa9SQMK1VS5Vjz3rZTtZXHrtaajdatTqSJGkzWSOijVbWNAzpJzAPd9e5C7/M3XNqHVp9SrgbDu7k99UGBMtPg/Sur8OiO+ip7aBGgH4bNY4HfTKoRchjbucp+3WUx49jQD8XymFdfTUrqfG4ePFit215lC/7nOPIe1zo58G21bUeWT99QWo5t63jl4cTsM3U1DDMO3ap6Vp0LjYNx5Drg/4tvHm+vjb5znlm3zkWrX462j5c+5xTznvrnDKd3yTzDO3TJklbaZaQSBuFO9zToLa7y51h+p9yN27Vdvm5Oz90ee7K991hZ9rQGgmw3vrOf6tGhG2bBv/deukfMQ0+u32eBiNdbQ7zs+55tQOl9K+h1mIa0N6cJh1dWZQ9pPaAWg6WpQwGlsvxS40IQ1/fm0xv1cZkWkvWyfpYzyL0q0nNzDZKDVCrHw2YXtdKabulRnCaPM/G7MXvc5l/YyRpG/nULO0M7i5z13n6H/ygu4zUFPTdYZ83rca81CJMA8k9NQPc9fzvf//b/f3kk092n9zZz91vUAvB8nwynnX21V60MC99NKZJT7dsylmmDI5btqteLjURy5Q3BNvJeoeWy7ZxbFPLsm3YT/aZ65OasxLHgeuBz13Gb5bfAsNRwPXKOef3yTnPbz74vbLPQ/+dkaRtZCKinULTIZr91MHeOhFM0LTp+vXrXcA8liReaAU6RwXJB83YtnUfCaxpnsP5otnd66+/vif4ZBrDtiZZB+WoJSIknzQ55Nq9cOHCXU0t+bdi15NPSUeffUS0UwhmuAs5ZlBHEMlTqcZMQpCAjX4eRzUJAefy9OnTW7uPXB8kHnlqWR2Qch69K35w+P3z7wADx5zv4DvnYgycUxIRbozw+yQBLbEdrX5VknTUmIhopxCs0jSLGooxcEeTphcJKsa8w5mg6igHsewjzcO2ubYgiQaBKQkrHf8THMOg9OBwnXCcOZ4kHvxNs0nG82/CWDcLynNKMsK/C+U1bPIpaVeYiGjnEID0PQ3roJVPcxpjfUFgQ0CLo1obwj7yjhdqELZ1H5NwJABOrUiCUqYzbezatKOI4J9mUHySgIAkgGNMEkKt2jLB/z//+c+V35JfJhpsAy5fvtx9gukmn5J2gX1EtJMIYpMcrPM/fBKRU6dOdXe6czd23QhiCM5T+0IQy3oJeI5SUsL+sF8J3rcR1wSBcJmkcr7Sab01fRdwTvMizOA4cE23fkP0q1mEa5+B30eJR+iCR2wP/X3+61//mnz0ox/t/v7HP/4x+djHPtb9PUT+7clNCnAt0zyLbeD8829SOV2SjioTEe0sAgL+w+cOqXectwuBOUFl7iZvK7afobwTTxDO3XGedMa1yb4uCpCZp7zTDwLZbQ1mk4CVSCAY1zrnixI1js3Zs2e7Y1ouT3m8B+fcuXO3a6GG+OCDDyYf+chHJv/5z3+6pIS/h2I9nJeyLxD7RhMxtoNroS/5ZD/KBI0bHOWNlHL6sjU868K/s+wLDwlhm+o+UKvgeFFmnjjmv9/SFiMRkSSNj3fG1KaB1e33S7Sm13iHC/OV75bhHRS8e+Qo2c8+sSzHtH4nTcZzzJf1v//97+aNGzdm34bj3SCtdxlxDtkW3okz7905vFuH+freK8N0ytgkuaYP8l047CP7Kmm72UdEkg4Bd3VbNR3U9EyDrG76kDva3AVnmfKuMHfJN+Fu+KYpjze1DumXwfFbtvboQx/60OSee+6ZfRuO89U6N6kB6bsuIjUgrVoAah/Yr2Vqd8bAPuEgr0nKLGuDJG0nExFJOgQEi30BZ5oPDQnc3n333W4gCA3KNRG5g0QDZbLBMSbhA0FtguV1mnfOCap5iMai4DrLt7aXZk8kNJvWVIltpVnWQW0X5/H999/3GpeOgA9P/9HarV6QknTI6Afywx/+sAumHnzwwcmnPvWp2ZRb+E7QSmB57733zsa2cQec9vc8wakMYhN8l3K3/Nlnn739nb/ZFrSCZBKc73//+928BJS/+tWvus8EgUxneQbm+dznPtfd9X/qqae678zHPHynBoLvqwSkrJPyWn1EFmG/CF45Th//+Me7YJ3tYL8oNwE852Jdckw4T/fdd193jstzy99/+ctfuu3qS1Zw48aN7lgzzxe/+MXZ2Fvnkv34wQ9+MBvTxnx0jP/1r3/dnYe+fWY+jtfPf/7z7nvregLHle3hHLNtXB/19nPOvvKVr3T7xvXHE/3qWjyW/8Mf/tCVV/4eOD8o5/3Zz37WbT9l9eF4Z9sp829/+9uefaBc9o9yGVJWjke2h23l3GQ8ZVEu17mkAzBroiVJ2iBln495mC/9BqYB32xsP/onMC/9I9Jmn34LjKv7StBXgb4L6bPAJ/O99NJL3fegnIznbz5pw0+fDraPfiyMY55W/4ghWJ5y9oP9q/tfsH1Dj/W6Dd0WjmPdX4bv8/qWgOPHuc56jh8/3uy3wbVRzsf6WseN6+3SpUvdd6ZzrdTnKNcM550yKTvXa643yso1lPKQa7W+ZnJttVAm07IM18000dizn8zDdlI26871T7nBPCzDMSrHZzuz7ZL2x0REkrYcwVQ6Oy8K1gn06uCulSQQaBHAleP4uxWEJTjjMwErwSABXrYn8ywKlrUYgTznJjgvi847wXQZUINzVAf0lFOO41yzvvq8MU+5ziQsnOcS1xvBPAkI84AymZdxkYSlXA/XD8vWUl6N8h9++OE925BrNusOrnn2K9tVXrul/F7K5Rcda0nD2UdEkrYcTUtoijIN0LrmTzQf6UOTlGnS0jWTCZrhgHKC5jTTQG3PfJTLsnUznZRJOWmWQ7MXvqf1b+aZ1+xIw3D8aToUNPWb18qaaTQxaj06N+cenCOun3I+1sV5L88b5TGuXGeuubqPC2Xyrhaup1xf2fbyemM+rt+sh3loQlZef2A9NGls9aVhHNdYOY1yuY7LdYHx7BsD01imdW2mLOaP+vqXtDoTEUnaQmUACYKoBJAkJX0ISOuXQBLclUEg30kk6vloR18HhkiQlvnL7wkAGddaVsvLeeKYkgyUx7mF6+LcuXN3BdCc5zL4Zj6C9lZAHiQIJCtlYgGujdOnT8++3cH1dubMmT3rbiUt9fWRa7m+ZpJw19vI8n3XbLmeoBx+Q+zHPGw3xyTXNJ/zjo+k5ZiISNIWKu9ax6KgKsFUGdwRjNXJSRKZcj7G8QK5OjBkecaXd8eZt7wzTfDaWlarSSDMsSeon3feOeetJ0xlfHneuQ4W3e3n3HI+y3XmGmqtA63koE5OmDfLs0+pNWmV2bqO0tm8TDrYVp4oV89P+fW+z8PySZ761i9pNSYikrSFCIwSHEW+9wVKBFH13WSCMe5kl4lE5I435SaopOz8jfxd392uv4NxSXK0ugTw58+fb563ljrBYDlqSeprpa5ZISFIUgCSDpTXEEkA81BWpoNzXV9vJNBcT0kcwPckS5ST6yXLltc5tR6ZrxzPessaGaZnHa3tQnmNzsPyrJfyhi4jaRgTEUnaQgRGBKIJxgi0+N4KLoMA78SJE7Nvt2pQCDzr5CBBK01waKdPAJYymbcMVvlOAJhxBIB17QfbyHTKWXTHXYslsL9w4cKeIL+F401Az3mJ1KbVtWrUUnBdZV4+SVjK852/uZaYThnZBqaV1xLzlNvHNK4BxpdllgkFiTHXJeNYtrzekqAwnnLKspmH645t4reQ6WlWVSci7Gu5DfNkPZRRrlPS/vkeEUnaQgRRBG0EXLwPg8CNdzX0/ZNOgMZ7LD772c9271TIOysoo35XCcEW5bMMgWzmYRzvriiDMcpivUkw+M58jEu5fM+4+p0pWk2C+vrc1TjuHHMSBpopJejnfSP1spzb3//+9928fHKNcG2VKItpFy9e7M71t771rW487w+hvHwH7xVhXt6dQjLA/Ky3lYzybhC2jX1im/mbZb/+9a/vuWaYTjlc5+X2Mw/HhO3NdpA4sF1c5+U7V1hXXe48bA/rHXK8JS3nGI/Omv0tSTqiCNLOnj07uXr1qnd1pSWkVqavplHS6myaJUk7gDvSracNSeqXGiSTEGk9TEQk6YijiRVPNSr7h0hqo0kXv5VnnnmmS+DtoC6tj02zJEmSJI3OGhFJkiRJozMRkSRJkjQ6ExFJkiRJozMRkSRJkjQ6ExFJkiRJozMRkSRJkjQ6ExFJkiRJozMRkSRJkjQ6ExFJkiRJozMRkSRJkjQ6ExFJkiRJozMRkSRJkjQ6ExFJkiRJozMRkSRJkjQ6ExFJkiRJozMRkSRJkjQ6ExFJkiRJozMRkSRJkjQ6ExFJkiRJozMRkSRJkjQ6ExFJkiRJozMRkSRJkjQ6ExFJkiRJozMRkSRJkjQ6ExFJ0oF77733Ji+++OLk/vvvnxw7dmzy1ltvzabckekM/C1J2i3Hbk7N/pYk6UA9//zzk4sXL07OnTs3efnll2dj73j88ccnjzzySDefJGm3WCMiSVqbV199dfLQQw9NXnnlla6WpEZNyRNPPDH7plVR62QyJ2nbmIhIktaCxINmV08//XT3va4Reeedd7rPhx9+uPuUJO0WExFJ0lpQG/Loo492NR7Hjx+fXL58eTblljfeeKNrmqXNQbJI4siQ80WtFc3rkjhK0kExEZEkrQWJBokItSIkHASyjIskKjp81F6dOnWqOz88OIDhypUrXXMvkpKXXnrJmitJB85ERJK0FtxJT6KR5lnl07GYbo3IZuA88Oyasvkc545akTfffNOnmklaCxMRSdKBI8ko76DzZKzTp09PXnvtta5mhOmMG8ONGze64aggQXjsscf2DOCBAPX41pPKasxDslF3dqcmi5oSzpsJo6R1MBGRJB24NMsq5elYBL40yxoruH3wwQcnv/nNb2bf7mAb83hhBrYpSJSoBWhN2wTUXpRDa1zGL8K+0YenPh/pE+LTuCSti+8RkSQdOJIQEo66XwF32XnU7MmTJ5vT14F1/vjHP558+ctfno25g+2kNuDSpUu3m49FkpQLFy5sfNMkjulzzz23UtLA8aF2quy/Q03IiRMnutqQTUvCJB0d1ohIkg4UQSx301tJBsE+0xk2ofMz24HWu0xSI3DU33Py/vvvz/66g8SrPEfUEEnSQTMRkSQdKO6g9yUZCerrZluHgUD77bff7u76UytQS5OlsfqyHJYzZ87M/rolzdIYT20R35OUSdJBMhGRJB0YAthnnnmmC/DpPF0jQSHAndc/hCZCPK2pbg5F4lAGxEzfT7OhNEVqJUUE39QULOrHwvZkO1iGplFl7QHT6aBPE6+Mp0kaxyi1MczD98NqApVt5phzzvie/jOMpxbLzuqS1sE+IpKkURF4L2qWReD77rvvTq5evTobc2scQ2pVCJAJmMvAv6WvjwjlEHiTSNS1HiQFjOf9GX1Ns0go0vGedaS88r9Vto2AnmSE8fzNvCQe9OlgfyiDY0Ltw/Xr12dLLodkivX3besQbCvbVp6bIedKklZljYgkaVRDAlsC6zLBSMJBYBytBGIZlEnTK4L/119/fc/Ay/zQ14SM5IFEKEkI+KSZV4nto+aDWiC2t6xd4DiwT4zHQw891H2ugn3ZTxICtrU+NyYhktbJRESStHGSYBDEMxCw10ExyQA1DKsgoaHGhUSDMsqBZIFpPNmrFYizLDUaJBBJQkAy0NfMC0xj/iRA7FeSB8YlQZGkXWEiIknaWKkxIGBPEI8kKK1EgYD+1KlTs29t6Y/RCv6zjr7aELaHZlZlDQTJCf1i6mXYfvqakFgluUr5WT7z9K1Pko4qExFJ0sZJUE7QTgLCkEAeqbloYT5qM+aZl2xkWl8NBUlMvVy2pR6fssptZVwSq3ynhsRERNKuMRGR5ijbo+vweT52D0F/GcRTc5C+Fn1IUmi2NQ/BP30yWjUqqS3pSwxotlUmRcxP7Uz6h6QpFphG/5AkHUxj+bI2hW3JupK4SNIuMBGRehAwECwQYGgzEHwuCjB1tKQjNwj++V2SPLQSiKFIDkhoWmWQCNSJRo0EhidckRjzyNv8G8GbyNnelMt45itrVlL7UZbPOJZh2XnrlaSjxkREaiDYIXggYMmdTB0+khCCNZOR3UBNQlkrwW+Rx+n2NZniumDasWPH9tRKPPDAA7O/bv22SSB4dC5llzUQTOM701h3ajpqjKePCIkxTcC4YUECkX4j+TeDZfOI3mBamVyB6cxbLitJu8D3iOhI4D9xOoouUj9as4WyuLM5L+AZw09/+tPJuXPnJs8+++zk//7v/2Zj9yKg4u5tn3J/583b10RlExEsJoD07rFqBPNcGzbjk6TNZ42Ijgxy6tzlzEAywTsBMp47o+UbjVsIZLjLeZhJSHzwwQezv9q4e9rab/a5dY+B9yWQ3GS+CxcudOO26S4syQd3os+ePTv3PGo3kYRwbUuStgA1ItJRceXKFaLvbpgG2bOxt0yD89vTpsHsbOxemYfPw/aTn/yk25bvfve7szH9pgnX7X2r97vG9MzL8dpG0+Tp5vHjx29OE7DZGOnmzWvXrnXXNb8HSdLms0ZER0rZLpyajVJqAMB8tPOu8bQdakO27Y5q2Qyl3u9a2sTTYXYTan1WQQ0O205HYSnym97W61qSdo2JiI6UBCL1U2mi7AdRJi0gmOcJN4sC+U2U/aavx7x+E2Vfmm1vvsJ5Yn/suK4gyeZGgh2+JWk7mIjoyNhvkJ2agm0L0JfZ77IWaNvvGmdfWzVb2k3pH8JNhvpGgyRp85iI6MhIIoG+ILsMTup5CGj7alJqBP+vvPJK99lC7Uo9je+vvfbagT/Np9zvRYnIMvO2sDz7nePId/ZpHva3nifjWseCspnWd2xLPBWMWiwpeDIc19WQ37Ek6XCZiOjIKO+Mt4LsMiAmgK0DFYLqRcFL3lPA07doGtR317U1jXcHsOxjjz02G3MwlqnlyLzLPq6X5Tg2HCOW5ZNjwb6k302J6UzjOPEoZJ7qFfTDYRzbeurUqdvJCIkHyzCOaTwVaxHOM8v1nQftFq47rrVFvwNJ0mYwEdGRQRAC2ojXQXYCY4JWppfBe/S9ablEgsGyvOwMWWeJhKN1l55HzlLj0qoF2I9sA9tOEy3W3RqoyWAfsUygxj4zkHiQRBD8sy95KVurLObhEcIkLfkOyqH9/rVr17rvnA+OB5+Uw6OFr1y50k1rHds+yxzTJFD7GbSZSJatCZGkLTJ7epa01a5evXr7kbTTQPfmNPC9PUwD9G78NCjuHvfKo19reWzv0MfBMh/zTwPn2Zhb8ljZvrJ4XO40iZl9m2/I43vzuFIG9u/06dO9A9Mz79DH9rJ/zN96nDFlLiorx4LlOR7lY1WzLeCYcA6RRxFPE8bu+zysm3mHnjfk3O1nkCRJ++eb1XUkcHeeFxXi0qVL3V137pLzyR3SfPZJjck0SO3u+i+S+afB+J4799zxB7UPrbJSo5Aagnl4s/rXvva1yTQR6X2zernf1EDMK5dp1IxgyEsM2daLFy92tRStJ1OxPDUsfWVx/GmCRS0QtUg0n6ImBeXxY7uoDcn54Rhy/GjylVqXPsuet8Py7W9/e/aXpG3wve99b3LPPffMvklamy4dkbYcd9S5nFe9pJe9s54aGGpbgjJYPnf067KoLalrUOYZUiMydL9Zd+ajJmORsqaFv2vZ/3ll5TgwT73fHBumMX6aOM7G3pKamyG1NqnJWvQSx8P2zW9+s9tOBweH7Rhu3Lgx+/VKWif7iOhIKDuhr2JR7UAtd+/TN4E+Dty95658+pmUNSVgWmoEWiiTjtrLGLrf5bYMqY1J7QK1Ia1+M+ljM6+srJNjVNdsZBrHrTwmzMtTj7BMP5Zlz58kSTp8Ns3S1iMozhOWaJY1L9jvs0oTn2PHjnWf/IRYZ5oYpSySgwTcaZo0r2yWJzDPE6AWNc3KerBov5mWt5BfvXp1bjM1toGnXeHKlSt3JQRMp8kVn/Oag5HAkFS0jmmOXb08TcDOnz9/V5O3PquctzLZWdWyCe8vf/nL2V+StsEXvvAFm2ZJYyARkbYZzXK4lBnS4XlZaeKzTNOprJMmSNPAdDb2FsZPg/3ub5o21dOHWNQ0a5n9TnMnOo8vkmPBQJOuWppVMfRJ061WGWkGxzbVOP5MYx1DZFuHzo9y+1cdJEnS/tk0S1svzYSmge3cO/3z1E2thshdcTqLtzpzp2Yjj749aKkxoDP4vP0uawDmNaWKsiaibvLEPuUYzasVSBk85rguI9PSsb+UaamFWXQ+Mv+Q/Qpqatj2/QySJGn/TES01ZYNsvsQLJPI5D0byyDYrvtRkByAYJsmQ61+FsF0khmaGNHcaQj2m3eGYNF+l4nFkH4Xff0t2Db6emR9SX5o9lUnDEkOW+urk43IuUxiRdKz6KlZOV7zjm+Nc8I27GeQJEn7ZyKirVbWNCwTjLYk+B2aDESrb0KCdLZpUaLA8vTb4CV/QztdD91v9oVH8MaQY1RuL8uSINApnsSBxCA1PSRt9OdgfFku68xjglvJBglUqxYn5dL/hGCfdS1KRJiPBHK/535sbDfHhr4y9TECx6KcnmOjzca1z++Z88ZQJ+jgmuZ3zpCEXZJ21qyJlrRV6BvwxBNP7Gm3P/2PvRvHtFXkcbNDHhuL06dP9/ZNYNoy/U3ou1HP3+ojMnS/6Zfy9NNP336ZYwa+M37RMar7UbBt6euRvilsM8esluPYeiEhj+plGo8drrFNWd+Qx/HmkcTLHOdNsugRyRwPjrG2Tx6rPe/fh9ZvR5J2jU/Nkma4m8nToqZB8MI78eBuZutuNrjjzR3/ITUczEuzrGlgsqffBE/N+ve//939/eSTT3afY+JuLkO9Hxwn7tAP3b9lUC5lDqnh4PjztLRFTwHbVGw/zdr6nixGrRfXxjr6F20aauEYWrWL24jrkd8O/55Q01njGmf6Qf9+JGnb2DRLmiEoOHfu3O13cyzSl4SAoGpokEGwibq8r371q10CchhJCEgGWvvB92X2bxkEcEObWRGgnzx5ciuTECTJoJkab5KvMX3eNabNlCSdmwokG3UiyXld1+9HkraNiYhU4I5sK3hYJwITAmoDk+E4RySM23wHPQFpX8BKjQnTNRzHlGsiA7V3HFv6Oo3Vzybnldou1ElmpkuSTESkPbgbTzOZsoP3utGxO4EJQZMWI8jjMbrbWmPAeU7NTytgXVfTt6OMhI5jyZAbCvmbF34OrWnbrySQrI9rlMSj/F3Pa9IpSbvGRESqELjQXIbPdSNIAYEJ6zPwXIxjxkBAt63K2g4CVh4BXQas/G2wOhwJB8eU45bfEIkJtWYMTF/mt/XnP/959tdyUgNTJ5n5t4TpDGMlRZK06UxEpIYEuusOdsuAhcDTRGQ+gjwCzDLg3EZsf9k8h31CAlauu6OaiLDfPJyhHHikMzVC9fgE8vNwTVy+fLmZbBD0c1NhSDnx29/+dvLpT3968pnPfGY2Zrg6geRvHi9NMsS21NMladeZiEgNBDQEDTw9iwBiXUhEeHBdmuJoPgJ2gvRtP1b1+a4D1vKueh/KIKjnfRVcr/QxybWahK2ctinYZposlQPJAvtfjx9ynvOEuyRzwTHAsjWN9913X/f5yU9+svtcBtdmmWCC7eK85MZGPT3YD5qEZqj7tJTT62mHhe1g/3j3z0FdY5TDMfLfQ2lH8PheSdI4eE9N690n5TtWhrxHBXnfS+udFKyHaUPLOkzTpKP3nRuLsGzrfSuMnyY3s2/L+etf/zr7azmsL+/bibzvZhpYz90e5mM/mLcuI5jGdbJJcp31bfMqOE7bcN1K2j9rRCRpRH13xXNHn1qRvrvmNWrt0GruM2/aUVPfPecY8xCI1CotW4PwiU98YvbXcKyD9dW1L3znseBMn3eXn/nmTed8Uku0TDOzMXCsD/Kpf9Rk8W6dob8BSdvNRESSRkITHRKNVsCZgBVDkweC7b4gkACRJk9HPaAj+KePSXCMz58/3x1LxhPYjtGUKU2KWpJkLjqvWb61vTQxG/Ki1bGRIB3kNZYE2kRE2g0mIpI0AoJLAmQCZTpXpw9DibvdPEFrCBINtAK2oXeVCWwJkikrfSnKtv6UQ/DMG8KZh22nEzl9TxIU88l0hsPAdtO/hL4TJHnsz5UrV7rtunnzZrf9664VYhs4p6y/9XJKzgMJ46LzkRqc+trgnJC8zqsxAdcYx6Hv+gqmsZ3MO28+zjnzkBzwd5KEYFmuM45vrmvm5+8S83FsyuWZh0S6npd5FtWwcDyy7Zzneh8og21BtqtcT9Zd7z/HL78rSSO51UJLkrQJrl27NvtrPtrQ80/4NDi9OQ1w9wyMY9q8/gT0Uyn7qqSPSt3WP/1Q2C7mYXra8NM/4PXXX7+97Kooq9XPZRlXr16969gNPZZjGLItHEuOY9lfhuM9Dczn9sFg2jQZuH2+ORb0N+GzxHzTRO12+axvGvDfVTbf6WPD+QXlMl++B+eM7WU9XEuUy7ZOE6rbZbLfuYZYX/RdM2x3X/8Q1sN2Zb/yGyiPLdPoZ5X+OvxdH1PmSd+WcnzKkzQef3GStIUI+PqCpgRffcEvwVfdcTpBZI0Ak+AvQS7BHWUTtCWwZJ66PK2GY8vxDs7LvCSN80HgXwbUyDkqcX7LcQTjdZLD3ySy5TqTIJXzgeuMbS3XnQB/UdLB9VLuJ0gQ6mWDaSRDSUIw75plyL6yL/W2g3k4diXGSRqPTbMkacvQnIT+D33NuGiaMg30mo8AZlmapNCcqESTlFbTIcqiKUuaN/GdvieUnfkZt+7mT7uC8/b+++93f3OuaC6UPiYtHPfp/+V3nU+UzZGYTnnlfCxL+WUzKNbF+S3XyfmdBvx3NZfKtVF2oC/XGaxjmnTMvt1artV0kPGox1Pm2bNnJ9PEYk/zNMrtu2bZ1+wDn/W2g/1nPgawnlZ5ktbHRESStkxfwAamEcj2BVTp21EGmgR0JDb1MgRo6QOQpCbrzvKZxwDuYHCcOR8gwG8lGMGxp69D/SStLF8G7Zx3zmMrIA+Woy9HXV4rSWVerjPmLcvk+qgfksC48nv6IdVlMl+ZsATzs691wsO21mXkeuQ4lvvfwvFArmk+M07SOExEJGnLJHCqgzCks21fQEUAWQd7CXbr8lJWGQAyrrzDPG9btLwEzwTfi4LpnJ/WeSMZyDWQpCHJZJ8kCOW1w/ltJalZR5nQJjkor5c6UWUdqTWpy2RdreuIZbhmy4QnCXVruzAvgStRLutlm9jWeYmapINnIiJJW4ZgiyY8rSB12cSAoJEAlaY3SCAHyqL5V4KzBJV1oJrEJoGsVpdkgUB7UTCdgL68DhjHU6JYdlHiwfks1UkqZZUBfzl/K2kgKeE6Kre7vB4pH5SbZoUpM8lS1pN9A4lQuY/MS7lpLlbOm/GL9j1YH+Vz7ZZJlaRxmIhI0pYgQKN/BwEbj9ClWU4QnDGNoApMqwNNEHgx7ZlnnukCLwYCORKMNN+JuulLGVQG68iyBnL7l4CbYH7R3fnMW55nEkuC/LJWgvmovaivlzpxZH1cP1wPlMk5ZVmCeuYv10NZZXLAvCxXJrJgOebj2kmwn2VZJglDri3GU0a57yTd2XbKy3SW5e9yu7hml7kOWR9lUt6i4y3p4B2jx/rsb0nSBiPgKoMuJCkgmCrvDINArXVnuE4oKJNly8CS7wkiE6C15muN0+o4liSDOUeLkLBwnk6dOtV1Wuc8lMlkMA/JSc4V89TzMQ/jmId5KZvkgc86SWU65571Xr9+vSuzlQCwPO/PoaM5ZSDXHdPKRITys94SyQZlcx0ynYHvbC9l5NrLPiaBGoL1sr6hx1vSwTIRkSRJOykJVithl7R+JiKSJGnn1DWDksZnHxFJkrQTaL514sSJrj8VTdBMQqTDZY2IJEmSpNFZIyJJkiRpdCYikiRJkkZnIiJJkiRpdCYikiRJkkZnIiJJkiRpdCYikiRJkkZnIiJJkiRpdCYikiRJkkZnIiJJkiRpdCYikiRJkkZnIiJJkiRpdCYikiRJkkZnIiJJkiRpdCYikiRJkkZnIiJJkiRpdCYikiRJkkZnIiJJkiRpdCYikiRJkkZnIiJJkiRpZJPJ/wPJpJMlU2WMnQAAAABJRU5ErkJggg==)"
      ]
    },
    {
      "cell_type": "markdown",
      "metadata": {
        "id": "UoikAkmTXe1s"
      },
      "source": [
        "Now let's get the unique words and perform the required calculations"
      ]
    },
    {
      "cell_type": "code",
      "metadata": {
        "id": "TXl7w_zwCUrQ"
      },
      "source": [
        "vocab=[]\n",
        "for comment in df[\"CONTENT\"]:\n",
        "    for word in comment.split():\n",
        "        vocab.append(word)"
      ],
      "execution_count": 20,
      "outputs": []
    },
    {
      "cell_type": "code",
      "metadata": {
        "id": "NA__QTHrCWoX",
        "outputId": "0173d651-b46b-4940-a2ba-5dcc3444e0a7",
        "colab": {
          "base_uri": "https://localhost:8080/",
          "height": 34
        }
      },
      "source": [
        "vocabulary=list(set(vocab))\n",
        "len(vocabulary)"
      ],
      "execution_count": 21,
      "outputs": [
        {
          "output_type": "execute_result",
          "data": {
            "text/plain": [
              "3363"
            ]
          },
          "metadata": {
            "tags": []
          },
          "execution_count": 21
        }
      ]
    },
    {
      "cell_type": "code",
      "metadata": {
        "id": "eSkgFpjECX-4"
      },
      "source": [
        "# Create a column for each of the unique word in our vocabulary inorder to get the count of words \n",
        "for word in vocabulary:\n",
        "    df[word]=0"
      ],
      "execution_count": 22,
      "outputs": []
    },
    {
      "cell_type": "code",
      "metadata": {
        "id": "3kn38KstCZ4A",
        "outputId": "0df40a6d-8a0a-4fa7-a67e-a131d44404b6",
        "colab": {
          "base_uri": "https://localhost:8080/",
          "height": 746
        }
      },
      "source": [
        "df.head()"
      ],
      "execution_count": 23,
      "outputs": [
        {
          "output_type": "execute_result",
          "data": {
            "text/html": [
              "<div>\n",
              "<style scoped>\n",
              "    .dataframe tbody tr th:only-of-type {\n",
              "        vertical-align: middle;\n",
              "    }\n",
              "\n",
              "    .dataframe tbody tr th {\n",
              "        vertical-align: top;\n",
              "    }\n",
              "\n",
              "    .dataframe thead th {\n",
              "        text-align: right;\n",
              "    }\n",
              "</style>\n",
              "<table border=\"1\" class=\"dataframe\">\n",
              "  <thead>\n",
              "    <tr style=\"text-align: right;\">\n",
              "      <th></th>\n",
              "      <th>CONTENT</th>\n",
              "      <th>CLASS</th>\n",
              "      <th>unnfy2i</th>\n",
              "      <th>gus</th>\n",
              "      <th>870</th>\n",
              "      <th>code</th>\n",
              "      <th>hahahahah</th>\n",
              "      <th>molly</th>\n",
              "      <th>check</th>\n",
              "      <th>members</th>\n",
              "      <th>foto</th>\n",
              "      <th>disappointed</th>\n",
              "      <th>info</th>\n",
              "      <th>movie</th>\n",
              "      <th>countless</th>\n",
              "      <th>surveyshtmllink</th>\n",
              "      <th>rape</th>\n",
              "      <th>pun</th>\n",
              "      <th>else</th>\n",
              "      <th>79</th>\n",
              "      <th>les</th>\n",
              "      <th>drake</th>\n",
              "      <th>prophetz</th>\n",
              "      <th>spending</th>\n",
              "      <th>hook</th>\n",
              "      <th>loon</th>\n",
              "      <th>vena</th>\n",
              "      <th>ｆａｎｃy</th>\n",
              "      <th>annoying</th>\n",
              "      <th>fame</th>\n",
              "      <th>ever</th>\n",
              "      <th>using</th>\n",
              "      <th>always</th>\n",
              "      <th>says</th>\n",
              "      <th>ways</th>\n",
              "      <th>midnight</th>\n",
              "      <th>portfolio</th>\n",
              "      <th>collection</th>\n",
              "      <th>heart</th>\n",
              "      <th>popular</th>\n",
              "      <th>...</th>\n",
              "      <th>yrs</th>\n",
              "      <th>dead2me</th>\n",
              "      <th>figure</th>\n",
              "      <th>brothers</th>\n",
              "      <th>2005</th>\n",
              "      <th>winning</th>\n",
              "      <th>superr</th>\n",
              "      <th>auto</th>\n",
              "      <th>wahoo</th>\n",
              "      <th>living</th>\n",
              "      <th>poor</th>\n",
              "      <th>trolling</th>\n",
              "      <th>wow</th>\n",
              "      <th>spotify</th>\n",
              "      <th>business</th>\n",
              "      <th>jean</th>\n",
              "      <th>spit</th>\n",
              "      <th>mizuxe</th>\n",
              "      <th>jovaphile</th>\n",
              "      <th>letting</th>\n",
              "      <th>receive</th>\n",
              "      <th>avaaz</th>\n",
              "      <th>7k</th>\n",
              "      <th>trying</th>\n",
              "      <th>expectations</th>\n",
              "      <th>gorlin</th>\n",
              "      <th>daaaaaaaaaaannng</th>\n",
              "      <th>hating</th>\n",
              "      <th>because</th>\n",
              "      <th>shmelev</th>\n",
              "      <th>tank</th>\n",
              "      <th>julie</th>\n",
              "      <th>law</th>\n",
              "      <th>place</th>\n",
              "      <th>490</th>\n",
              "      <th>click</th>\n",
              "      <th>3</th>\n",
              "      <th>6</th>\n",
              "      <th>linked</th>\n",
              "      <th>renewal</th>\n",
              "    </tr>\n",
              "  </thead>\n",
              "  <tbody>\n",
              "    <tr>\n",
              "      <th>0</th>\n",
              "      <td>huh  anyway check out this you tube  channel  ...</td>\n",
              "      <td>1</td>\n",
              "      <td>0</td>\n",
              "      <td>0</td>\n",
              "      <td>0</td>\n",
              "      <td>0</td>\n",
              "      <td>0</td>\n",
              "      <td>0</td>\n",
              "      <td>0</td>\n",
              "      <td>0</td>\n",
              "      <td>0</td>\n",
              "      <td>0</td>\n",
              "      <td>0</td>\n",
              "      <td>0</td>\n",
              "      <td>0</td>\n",
              "      <td>0</td>\n",
              "      <td>0</td>\n",
              "      <td>0</td>\n",
              "      <td>0</td>\n",
              "      <td>0</td>\n",
              "      <td>0</td>\n",
              "      <td>0</td>\n",
              "      <td>0</td>\n",
              "      <td>0</td>\n",
              "      <td>0</td>\n",
              "      <td>0</td>\n",
              "      <td>0</td>\n",
              "      <td>0</td>\n",
              "      <td>0</td>\n",
              "      <td>0</td>\n",
              "      <td>0</td>\n",
              "      <td>0</td>\n",
              "      <td>0</td>\n",
              "      <td>0</td>\n",
              "      <td>0</td>\n",
              "      <td>0</td>\n",
              "      <td>0</td>\n",
              "      <td>0</td>\n",
              "      <td>0</td>\n",
              "      <td>0</td>\n",
              "      <td>...</td>\n",
              "      <td>0</td>\n",
              "      <td>0</td>\n",
              "      <td>0</td>\n",
              "      <td>0</td>\n",
              "      <td>0</td>\n",
              "      <td>0</td>\n",
              "      <td>0</td>\n",
              "      <td>0</td>\n",
              "      <td>0</td>\n",
              "      <td>0</td>\n",
              "      <td>0</td>\n",
              "      <td>0</td>\n",
              "      <td>0</td>\n",
              "      <td>0</td>\n",
              "      <td>0</td>\n",
              "      <td>0</td>\n",
              "      <td>0</td>\n",
              "      <td>0</td>\n",
              "      <td>0</td>\n",
              "      <td>0</td>\n",
              "      <td>0</td>\n",
              "      <td>0</td>\n",
              "      <td>0</td>\n",
              "      <td>0</td>\n",
              "      <td>0</td>\n",
              "      <td>0</td>\n",
              "      <td>0</td>\n",
              "      <td>0</td>\n",
              "      <td>0</td>\n",
              "      <td>0</td>\n",
              "      <td>0</td>\n",
              "      <td>0</td>\n",
              "      <td>0</td>\n",
              "      <td>0</td>\n",
              "      <td>0</td>\n",
              "      <td>0</td>\n",
              "      <td>0</td>\n",
              "      <td>0</td>\n",
              "      <td>0</td>\n",
              "      <td>0</td>\n",
              "    </tr>\n",
              "    <tr>\n",
              "      <th>1</th>\n",
              "      <td>hey guys check out my new channel and our firs...</td>\n",
              "      <td>1</td>\n",
              "      <td>0</td>\n",
              "      <td>0</td>\n",
              "      <td>0</td>\n",
              "      <td>0</td>\n",
              "      <td>0</td>\n",
              "      <td>0</td>\n",
              "      <td>0</td>\n",
              "      <td>0</td>\n",
              "      <td>0</td>\n",
              "      <td>0</td>\n",
              "      <td>0</td>\n",
              "      <td>0</td>\n",
              "      <td>0</td>\n",
              "      <td>0</td>\n",
              "      <td>0</td>\n",
              "      <td>0</td>\n",
              "      <td>0</td>\n",
              "      <td>0</td>\n",
              "      <td>0</td>\n",
              "      <td>0</td>\n",
              "      <td>0</td>\n",
              "      <td>0</td>\n",
              "      <td>0</td>\n",
              "      <td>0</td>\n",
              "      <td>0</td>\n",
              "      <td>0</td>\n",
              "      <td>0</td>\n",
              "      <td>0</td>\n",
              "      <td>0</td>\n",
              "      <td>0</td>\n",
              "      <td>0</td>\n",
              "      <td>0</td>\n",
              "      <td>0</td>\n",
              "      <td>0</td>\n",
              "      <td>0</td>\n",
              "      <td>0</td>\n",
              "      <td>0</td>\n",
              "      <td>0</td>\n",
              "      <td>...</td>\n",
              "      <td>0</td>\n",
              "      <td>0</td>\n",
              "      <td>0</td>\n",
              "      <td>0</td>\n",
              "      <td>0</td>\n",
              "      <td>0</td>\n",
              "      <td>0</td>\n",
              "      <td>0</td>\n",
              "      <td>0</td>\n",
              "      <td>0</td>\n",
              "      <td>0</td>\n",
              "      <td>0</td>\n",
              "      <td>0</td>\n",
              "      <td>0</td>\n",
              "      <td>0</td>\n",
              "      <td>0</td>\n",
              "      <td>0</td>\n",
              "      <td>0</td>\n",
              "      <td>0</td>\n",
              "      <td>0</td>\n",
              "      <td>0</td>\n",
              "      <td>0</td>\n",
              "      <td>0</td>\n",
              "      <td>0</td>\n",
              "      <td>0</td>\n",
              "      <td>0</td>\n",
              "      <td>0</td>\n",
              "      <td>0</td>\n",
              "      <td>0</td>\n",
              "      <td>0</td>\n",
              "      <td>0</td>\n",
              "      <td>0</td>\n",
              "      <td>0</td>\n",
              "      <td>0</td>\n",
              "      <td>0</td>\n",
              "      <td>0</td>\n",
              "      <td>0</td>\n",
              "      <td>0</td>\n",
              "      <td>0</td>\n",
              "      <td>0</td>\n",
              "    </tr>\n",
              "    <tr>\n",
              "      <th>2</th>\n",
              "      <td>just for test i have to say htmllink</td>\n",
              "      <td>1</td>\n",
              "      <td>0</td>\n",
              "      <td>0</td>\n",
              "      <td>0</td>\n",
              "      <td>0</td>\n",
              "      <td>0</td>\n",
              "      <td>0</td>\n",
              "      <td>0</td>\n",
              "      <td>0</td>\n",
              "      <td>0</td>\n",
              "      <td>0</td>\n",
              "      <td>0</td>\n",
              "      <td>0</td>\n",
              "      <td>0</td>\n",
              "      <td>0</td>\n",
              "      <td>0</td>\n",
              "      <td>0</td>\n",
              "      <td>0</td>\n",
              "      <td>0</td>\n",
              "      <td>0</td>\n",
              "      <td>0</td>\n",
              "      <td>0</td>\n",
              "      <td>0</td>\n",
              "      <td>0</td>\n",
              "      <td>0</td>\n",
              "      <td>0</td>\n",
              "      <td>0</td>\n",
              "      <td>0</td>\n",
              "      <td>0</td>\n",
              "      <td>0</td>\n",
              "      <td>0</td>\n",
              "      <td>0</td>\n",
              "      <td>0</td>\n",
              "      <td>0</td>\n",
              "      <td>0</td>\n",
              "      <td>0</td>\n",
              "      <td>0</td>\n",
              "      <td>0</td>\n",
              "      <td>0</td>\n",
              "      <td>...</td>\n",
              "      <td>0</td>\n",
              "      <td>0</td>\n",
              "      <td>0</td>\n",
              "      <td>0</td>\n",
              "      <td>0</td>\n",
              "      <td>0</td>\n",
              "      <td>0</td>\n",
              "      <td>0</td>\n",
              "      <td>0</td>\n",
              "      <td>0</td>\n",
              "      <td>0</td>\n",
              "      <td>0</td>\n",
              "      <td>0</td>\n",
              "      <td>0</td>\n",
              "      <td>0</td>\n",
              "      <td>0</td>\n",
              "      <td>0</td>\n",
              "      <td>0</td>\n",
              "      <td>0</td>\n",
              "      <td>0</td>\n",
              "      <td>0</td>\n",
              "      <td>0</td>\n",
              "      <td>0</td>\n",
              "      <td>0</td>\n",
              "      <td>0</td>\n",
              "      <td>0</td>\n",
              "      <td>0</td>\n",
              "      <td>0</td>\n",
              "      <td>0</td>\n",
              "      <td>0</td>\n",
              "      <td>0</td>\n",
              "      <td>0</td>\n",
              "      <td>0</td>\n",
              "      <td>0</td>\n",
              "      <td>0</td>\n",
              "      <td>0</td>\n",
              "      <td>0</td>\n",
              "      <td>0</td>\n",
              "      <td>0</td>\n",
              "      <td>0</td>\n",
              "    </tr>\n",
              "    <tr>\n",
              "      <th>3</th>\n",
              "      <td>me shaking my sexy ass on my channel enjoy  _</td>\n",
              "      <td>1</td>\n",
              "      <td>0</td>\n",
              "      <td>0</td>\n",
              "      <td>0</td>\n",
              "      <td>0</td>\n",
              "      <td>0</td>\n",
              "      <td>0</td>\n",
              "      <td>0</td>\n",
              "      <td>0</td>\n",
              "      <td>0</td>\n",
              "      <td>0</td>\n",
              "      <td>0</td>\n",
              "      <td>0</td>\n",
              "      <td>0</td>\n",
              "      <td>0</td>\n",
              "      <td>0</td>\n",
              "      <td>0</td>\n",
              "      <td>0</td>\n",
              "      <td>0</td>\n",
              "      <td>0</td>\n",
              "      <td>0</td>\n",
              "      <td>0</td>\n",
              "      <td>0</td>\n",
              "      <td>0</td>\n",
              "      <td>0</td>\n",
              "      <td>0</td>\n",
              "      <td>0</td>\n",
              "      <td>0</td>\n",
              "      <td>0</td>\n",
              "      <td>0</td>\n",
              "      <td>0</td>\n",
              "      <td>0</td>\n",
              "      <td>0</td>\n",
              "      <td>0</td>\n",
              "      <td>0</td>\n",
              "      <td>0</td>\n",
              "      <td>0</td>\n",
              "      <td>0</td>\n",
              "      <td>0</td>\n",
              "      <td>...</td>\n",
              "      <td>0</td>\n",
              "      <td>0</td>\n",
              "      <td>0</td>\n",
              "      <td>0</td>\n",
              "      <td>0</td>\n",
              "      <td>0</td>\n",
              "      <td>0</td>\n",
              "      <td>0</td>\n",
              "      <td>0</td>\n",
              "      <td>0</td>\n",
              "      <td>0</td>\n",
              "      <td>0</td>\n",
              "      <td>0</td>\n",
              "      <td>0</td>\n",
              "      <td>0</td>\n",
              "      <td>0</td>\n",
              "      <td>0</td>\n",
              "      <td>0</td>\n",
              "      <td>0</td>\n",
              "      <td>0</td>\n",
              "      <td>0</td>\n",
              "      <td>0</td>\n",
              "      <td>0</td>\n",
              "      <td>0</td>\n",
              "      <td>0</td>\n",
              "      <td>0</td>\n",
              "      <td>0</td>\n",
              "      <td>0</td>\n",
              "      <td>0</td>\n",
              "      <td>0</td>\n",
              "      <td>0</td>\n",
              "      <td>0</td>\n",
              "      <td>0</td>\n",
              "      <td>0</td>\n",
              "      <td>0</td>\n",
              "      <td>0</td>\n",
              "      <td>0</td>\n",
              "      <td>0</td>\n",
              "      <td>0</td>\n",
              "      <td>0</td>\n",
              "    </tr>\n",
              "    <tr>\n",
              "      <th>4</th>\n",
              "      <td>htmllink   check this out</td>\n",
              "      <td>1</td>\n",
              "      <td>0</td>\n",
              "      <td>0</td>\n",
              "      <td>0</td>\n",
              "      <td>0</td>\n",
              "      <td>0</td>\n",
              "      <td>0</td>\n",
              "      <td>0</td>\n",
              "      <td>0</td>\n",
              "      <td>0</td>\n",
              "      <td>0</td>\n",
              "      <td>0</td>\n",
              "      <td>0</td>\n",
              "      <td>0</td>\n",
              "      <td>0</td>\n",
              "      <td>0</td>\n",
              "      <td>0</td>\n",
              "      <td>0</td>\n",
              "      <td>0</td>\n",
              "      <td>0</td>\n",
              "      <td>0</td>\n",
              "      <td>0</td>\n",
              "      <td>0</td>\n",
              "      <td>0</td>\n",
              "      <td>0</td>\n",
              "      <td>0</td>\n",
              "      <td>0</td>\n",
              "      <td>0</td>\n",
              "      <td>0</td>\n",
              "      <td>0</td>\n",
              "      <td>0</td>\n",
              "      <td>0</td>\n",
              "      <td>0</td>\n",
              "      <td>0</td>\n",
              "      <td>0</td>\n",
              "      <td>0</td>\n",
              "      <td>0</td>\n",
              "      <td>0</td>\n",
              "      <td>0</td>\n",
              "      <td>...</td>\n",
              "      <td>0</td>\n",
              "      <td>0</td>\n",
              "      <td>0</td>\n",
              "      <td>0</td>\n",
              "      <td>0</td>\n",
              "      <td>0</td>\n",
              "      <td>0</td>\n",
              "      <td>0</td>\n",
              "      <td>0</td>\n",
              "      <td>0</td>\n",
              "      <td>0</td>\n",
              "      <td>0</td>\n",
              "      <td>0</td>\n",
              "      <td>0</td>\n",
              "      <td>0</td>\n",
              "      <td>0</td>\n",
              "      <td>0</td>\n",
              "      <td>0</td>\n",
              "      <td>0</td>\n",
              "      <td>0</td>\n",
              "      <td>0</td>\n",
              "      <td>0</td>\n",
              "      <td>0</td>\n",
              "      <td>0</td>\n",
              "      <td>0</td>\n",
              "      <td>0</td>\n",
              "      <td>0</td>\n",
              "      <td>0</td>\n",
              "      <td>0</td>\n",
              "      <td>0</td>\n",
              "      <td>0</td>\n",
              "      <td>0</td>\n",
              "      <td>0</td>\n",
              "      <td>0</td>\n",
              "      <td>0</td>\n",
              "      <td>0</td>\n",
              "      <td>0</td>\n",
              "      <td>0</td>\n",
              "      <td>0</td>\n",
              "      <td>0</td>\n",
              "    </tr>\n",
              "  </tbody>\n",
              "</table>\n",
              "<p>5 rows × 3365 columns</p>\n",
              "</div>"
            ],
            "text/plain": [
              "                                             CONTENT  CLASS  ...  linked  renewal\n",
              "0  huh  anyway check out this you tube  channel  ...      1  ...       0        0\n",
              "1  hey guys check out my new channel and our firs...      1  ...       0        0\n",
              "2               just for test i have to say htmllink      1  ...       0        0\n",
              "3    me shaking my sexy ass on my channel enjoy  _        1  ...       0        0\n",
              "4                        htmllink   check this out        1  ...       0        0\n",
              "\n",
              "[5 rows x 3365 columns]"
            ]
          },
          "metadata": {
            "tags": []
          },
          "execution_count": 23
        }
      ]
    },
    {
      "cell_type": "code",
      "metadata": {
        "id": "8y22NJTuCbZD",
        "outputId": "c6aed48e-fb2c-4bdc-f00c-08846b74d454",
        "colab": {
          "base_uri": "https://localhost:8080/",
          "height": 122
        }
      },
      "source": [
        "# looping through data frame and counting words \n",
        "for index,value in enumerate(df[\"CONTENT\"]):\n",
        "  for l in value.split():\n",
        "    df[l][index]+=1"
      ],
      "execution_count": 24,
      "outputs": [
        {
          "output_type": "stream",
          "text": [
            "/usr/local/lib/python3.6/dist-packages/ipykernel_launcher.py:4: SettingWithCopyWarning: \n",
            "A value is trying to be set on a copy of a slice from a DataFrame\n",
            "\n",
            "See the caveats in the documentation: https://pandas.pydata.org/pandas-docs/stable/user_guide/indexing.html#returning-a-view-versus-a-copy\n",
            "  after removing the cwd from sys.path.\n"
          ],
          "name": "stderr"
        }
      ]
    },
    {
      "cell_type": "code",
      "metadata": {
        "id": "vrWyZwp2CfWv",
        "outputId": "c212c41e-40ae-4c2d-9fb9-c47ff10cbfb2",
        "colab": {
          "base_uri": "https://localhost:8080/",
          "height": 746
        }
      },
      "source": [
        "df.head()"
      ],
      "execution_count": 25,
      "outputs": [
        {
          "output_type": "execute_result",
          "data": {
            "text/html": [
              "<div>\n",
              "<style scoped>\n",
              "    .dataframe tbody tr th:only-of-type {\n",
              "        vertical-align: middle;\n",
              "    }\n",
              "\n",
              "    .dataframe tbody tr th {\n",
              "        vertical-align: top;\n",
              "    }\n",
              "\n",
              "    .dataframe thead th {\n",
              "        text-align: right;\n",
              "    }\n",
              "</style>\n",
              "<table border=\"1\" class=\"dataframe\">\n",
              "  <thead>\n",
              "    <tr style=\"text-align: right;\">\n",
              "      <th></th>\n",
              "      <th>CONTENT</th>\n",
              "      <th>CLASS</th>\n",
              "      <th>unnfy2i</th>\n",
              "      <th>gus</th>\n",
              "      <th>870</th>\n",
              "      <th>code</th>\n",
              "      <th>hahahahah</th>\n",
              "      <th>molly</th>\n",
              "      <th>check</th>\n",
              "      <th>members</th>\n",
              "      <th>foto</th>\n",
              "      <th>disappointed</th>\n",
              "      <th>info</th>\n",
              "      <th>movie</th>\n",
              "      <th>countless</th>\n",
              "      <th>surveyshtmllink</th>\n",
              "      <th>rape</th>\n",
              "      <th>pun</th>\n",
              "      <th>else</th>\n",
              "      <th>79</th>\n",
              "      <th>les</th>\n",
              "      <th>drake</th>\n",
              "      <th>prophetz</th>\n",
              "      <th>spending</th>\n",
              "      <th>hook</th>\n",
              "      <th>loon</th>\n",
              "      <th>vena</th>\n",
              "      <th>ｆａｎｃy</th>\n",
              "      <th>annoying</th>\n",
              "      <th>fame</th>\n",
              "      <th>ever</th>\n",
              "      <th>using</th>\n",
              "      <th>always</th>\n",
              "      <th>says</th>\n",
              "      <th>ways</th>\n",
              "      <th>midnight</th>\n",
              "      <th>portfolio</th>\n",
              "      <th>collection</th>\n",
              "      <th>heart</th>\n",
              "      <th>popular</th>\n",
              "      <th>...</th>\n",
              "      <th>yrs</th>\n",
              "      <th>dead2me</th>\n",
              "      <th>figure</th>\n",
              "      <th>brothers</th>\n",
              "      <th>2005</th>\n",
              "      <th>winning</th>\n",
              "      <th>superr</th>\n",
              "      <th>auto</th>\n",
              "      <th>wahoo</th>\n",
              "      <th>living</th>\n",
              "      <th>poor</th>\n",
              "      <th>trolling</th>\n",
              "      <th>wow</th>\n",
              "      <th>spotify</th>\n",
              "      <th>business</th>\n",
              "      <th>jean</th>\n",
              "      <th>spit</th>\n",
              "      <th>mizuxe</th>\n",
              "      <th>jovaphile</th>\n",
              "      <th>letting</th>\n",
              "      <th>receive</th>\n",
              "      <th>avaaz</th>\n",
              "      <th>7k</th>\n",
              "      <th>trying</th>\n",
              "      <th>expectations</th>\n",
              "      <th>gorlin</th>\n",
              "      <th>daaaaaaaaaaannng</th>\n",
              "      <th>hating</th>\n",
              "      <th>because</th>\n",
              "      <th>shmelev</th>\n",
              "      <th>tank</th>\n",
              "      <th>julie</th>\n",
              "      <th>law</th>\n",
              "      <th>place</th>\n",
              "      <th>490</th>\n",
              "      <th>click</th>\n",
              "      <th>3</th>\n",
              "      <th>6</th>\n",
              "      <th>linked</th>\n",
              "      <th>renewal</th>\n",
              "    </tr>\n",
              "  </thead>\n",
              "  <tbody>\n",
              "    <tr>\n",
              "      <th>0</th>\n",
              "      <td>huh  anyway check out this you tube  channel  ...</td>\n",
              "      <td>1</td>\n",
              "      <td>0</td>\n",
              "      <td>0</td>\n",
              "      <td>0</td>\n",
              "      <td>0</td>\n",
              "      <td>0</td>\n",
              "      <td>0</td>\n",
              "      <td>1</td>\n",
              "      <td>0</td>\n",
              "      <td>0</td>\n",
              "      <td>0</td>\n",
              "      <td>0</td>\n",
              "      <td>0</td>\n",
              "      <td>0</td>\n",
              "      <td>0</td>\n",
              "      <td>0</td>\n",
              "      <td>0</td>\n",
              "      <td>0</td>\n",
              "      <td>0</td>\n",
              "      <td>0</td>\n",
              "      <td>0</td>\n",
              "      <td>0</td>\n",
              "      <td>0</td>\n",
              "      <td>0</td>\n",
              "      <td>0</td>\n",
              "      <td>0</td>\n",
              "      <td>0</td>\n",
              "      <td>0</td>\n",
              "      <td>0</td>\n",
              "      <td>0</td>\n",
              "      <td>0</td>\n",
              "      <td>0</td>\n",
              "      <td>0</td>\n",
              "      <td>0</td>\n",
              "      <td>0</td>\n",
              "      <td>0</td>\n",
              "      <td>0</td>\n",
              "      <td>0</td>\n",
              "      <td>0</td>\n",
              "      <td>...</td>\n",
              "      <td>0</td>\n",
              "      <td>0</td>\n",
              "      <td>0</td>\n",
              "      <td>0</td>\n",
              "      <td>0</td>\n",
              "      <td>0</td>\n",
              "      <td>0</td>\n",
              "      <td>0</td>\n",
              "      <td>0</td>\n",
              "      <td>0</td>\n",
              "      <td>0</td>\n",
              "      <td>0</td>\n",
              "      <td>0</td>\n",
              "      <td>0</td>\n",
              "      <td>0</td>\n",
              "      <td>0</td>\n",
              "      <td>0</td>\n",
              "      <td>0</td>\n",
              "      <td>0</td>\n",
              "      <td>0</td>\n",
              "      <td>0</td>\n",
              "      <td>0</td>\n",
              "      <td>0</td>\n",
              "      <td>0</td>\n",
              "      <td>0</td>\n",
              "      <td>0</td>\n",
              "      <td>0</td>\n",
              "      <td>0</td>\n",
              "      <td>0</td>\n",
              "      <td>0</td>\n",
              "      <td>0</td>\n",
              "      <td>0</td>\n",
              "      <td>0</td>\n",
              "      <td>0</td>\n",
              "      <td>0</td>\n",
              "      <td>0</td>\n",
              "      <td>0</td>\n",
              "      <td>0</td>\n",
              "      <td>0</td>\n",
              "      <td>0</td>\n",
              "    </tr>\n",
              "    <tr>\n",
              "      <th>1</th>\n",
              "      <td>hey guys check out my new channel and our firs...</td>\n",
              "      <td>1</td>\n",
              "      <td>0</td>\n",
              "      <td>0</td>\n",
              "      <td>0</td>\n",
              "      <td>0</td>\n",
              "      <td>0</td>\n",
              "      <td>0</td>\n",
              "      <td>1</td>\n",
              "      <td>0</td>\n",
              "      <td>0</td>\n",
              "      <td>0</td>\n",
              "      <td>0</td>\n",
              "      <td>0</td>\n",
              "      <td>0</td>\n",
              "      <td>0</td>\n",
              "      <td>0</td>\n",
              "      <td>0</td>\n",
              "      <td>0</td>\n",
              "      <td>0</td>\n",
              "      <td>0</td>\n",
              "      <td>0</td>\n",
              "      <td>0</td>\n",
              "      <td>0</td>\n",
              "      <td>0</td>\n",
              "      <td>0</td>\n",
              "      <td>0</td>\n",
              "      <td>0</td>\n",
              "      <td>0</td>\n",
              "      <td>0</td>\n",
              "      <td>0</td>\n",
              "      <td>0</td>\n",
              "      <td>0</td>\n",
              "      <td>0</td>\n",
              "      <td>0</td>\n",
              "      <td>0</td>\n",
              "      <td>0</td>\n",
              "      <td>0</td>\n",
              "      <td>0</td>\n",
              "      <td>0</td>\n",
              "      <td>...</td>\n",
              "      <td>0</td>\n",
              "      <td>0</td>\n",
              "      <td>0</td>\n",
              "      <td>0</td>\n",
              "      <td>0</td>\n",
              "      <td>0</td>\n",
              "      <td>0</td>\n",
              "      <td>0</td>\n",
              "      <td>0</td>\n",
              "      <td>0</td>\n",
              "      <td>0</td>\n",
              "      <td>0</td>\n",
              "      <td>0</td>\n",
              "      <td>0</td>\n",
              "      <td>0</td>\n",
              "      <td>0</td>\n",
              "      <td>0</td>\n",
              "      <td>0</td>\n",
              "      <td>0</td>\n",
              "      <td>0</td>\n",
              "      <td>0</td>\n",
              "      <td>0</td>\n",
              "      <td>0</td>\n",
              "      <td>0</td>\n",
              "      <td>0</td>\n",
              "      <td>0</td>\n",
              "      <td>0</td>\n",
              "      <td>0</td>\n",
              "      <td>0</td>\n",
              "      <td>0</td>\n",
              "      <td>0</td>\n",
              "      <td>0</td>\n",
              "      <td>0</td>\n",
              "      <td>0</td>\n",
              "      <td>0</td>\n",
              "      <td>0</td>\n",
              "      <td>0</td>\n",
              "      <td>0</td>\n",
              "      <td>0</td>\n",
              "      <td>0</td>\n",
              "    </tr>\n",
              "    <tr>\n",
              "      <th>2</th>\n",
              "      <td>just for test i have to say htmllink</td>\n",
              "      <td>1</td>\n",
              "      <td>0</td>\n",
              "      <td>0</td>\n",
              "      <td>0</td>\n",
              "      <td>0</td>\n",
              "      <td>0</td>\n",
              "      <td>0</td>\n",
              "      <td>0</td>\n",
              "      <td>0</td>\n",
              "      <td>0</td>\n",
              "      <td>0</td>\n",
              "      <td>0</td>\n",
              "      <td>0</td>\n",
              "      <td>0</td>\n",
              "      <td>0</td>\n",
              "      <td>0</td>\n",
              "      <td>0</td>\n",
              "      <td>0</td>\n",
              "      <td>0</td>\n",
              "      <td>0</td>\n",
              "      <td>0</td>\n",
              "      <td>0</td>\n",
              "      <td>0</td>\n",
              "      <td>0</td>\n",
              "      <td>0</td>\n",
              "      <td>0</td>\n",
              "      <td>0</td>\n",
              "      <td>0</td>\n",
              "      <td>0</td>\n",
              "      <td>0</td>\n",
              "      <td>0</td>\n",
              "      <td>0</td>\n",
              "      <td>0</td>\n",
              "      <td>0</td>\n",
              "      <td>0</td>\n",
              "      <td>0</td>\n",
              "      <td>0</td>\n",
              "      <td>0</td>\n",
              "      <td>0</td>\n",
              "      <td>...</td>\n",
              "      <td>0</td>\n",
              "      <td>0</td>\n",
              "      <td>0</td>\n",
              "      <td>0</td>\n",
              "      <td>0</td>\n",
              "      <td>0</td>\n",
              "      <td>0</td>\n",
              "      <td>0</td>\n",
              "      <td>0</td>\n",
              "      <td>0</td>\n",
              "      <td>0</td>\n",
              "      <td>0</td>\n",
              "      <td>0</td>\n",
              "      <td>0</td>\n",
              "      <td>0</td>\n",
              "      <td>0</td>\n",
              "      <td>0</td>\n",
              "      <td>0</td>\n",
              "      <td>0</td>\n",
              "      <td>0</td>\n",
              "      <td>0</td>\n",
              "      <td>0</td>\n",
              "      <td>0</td>\n",
              "      <td>0</td>\n",
              "      <td>0</td>\n",
              "      <td>0</td>\n",
              "      <td>0</td>\n",
              "      <td>0</td>\n",
              "      <td>0</td>\n",
              "      <td>0</td>\n",
              "      <td>0</td>\n",
              "      <td>0</td>\n",
              "      <td>0</td>\n",
              "      <td>0</td>\n",
              "      <td>0</td>\n",
              "      <td>0</td>\n",
              "      <td>0</td>\n",
              "      <td>0</td>\n",
              "      <td>0</td>\n",
              "      <td>0</td>\n",
              "    </tr>\n",
              "    <tr>\n",
              "      <th>3</th>\n",
              "      <td>me shaking my sexy ass on my channel enjoy  _</td>\n",
              "      <td>1</td>\n",
              "      <td>0</td>\n",
              "      <td>0</td>\n",
              "      <td>0</td>\n",
              "      <td>0</td>\n",
              "      <td>0</td>\n",
              "      <td>0</td>\n",
              "      <td>0</td>\n",
              "      <td>0</td>\n",
              "      <td>0</td>\n",
              "      <td>0</td>\n",
              "      <td>0</td>\n",
              "      <td>0</td>\n",
              "      <td>0</td>\n",
              "      <td>0</td>\n",
              "      <td>0</td>\n",
              "      <td>0</td>\n",
              "      <td>0</td>\n",
              "      <td>0</td>\n",
              "      <td>0</td>\n",
              "      <td>0</td>\n",
              "      <td>0</td>\n",
              "      <td>0</td>\n",
              "      <td>0</td>\n",
              "      <td>0</td>\n",
              "      <td>0</td>\n",
              "      <td>0</td>\n",
              "      <td>0</td>\n",
              "      <td>0</td>\n",
              "      <td>0</td>\n",
              "      <td>0</td>\n",
              "      <td>0</td>\n",
              "      <td>0</td>\n",
              "      <td>0</td>\n",
              "      <td>0</td>\n",
              "      <td>0</td>\n",
              "      <td>0</td>\n",
              "      <td>0</td>\n",
              "      <td>0</td>\n",
              "      <td>...</td>\n",
              "      <td>0</td>\n",
              "      <td>0</td>\n",
              "      <td>0</td>\n",
              "      <td>0</td>\n",
              "      <td>0</td>\n",
              "      <td>0</td>\n",
              "      <td>0</td>\n",
              "      <td>0</td>\n",
              "      <td>0</td>\n",
              "      <td>0</td>\n",
              "      <td>0</td>\n",
              "      <td>0</td>\n",
              "      <td>0</td>\n",
              "      <td>0</td>\n",
              "      <td>0</td>\n",
              "      <td>0</td>\n",
              "      <td>0</td>\n",
              "      <td>0</td>\n",
              "      <td>0</td>\n",
              "      <td>0</td>\n",
              "      <td>0</td>\n",
              "      <td>0</td>\n",
              "      <td>0</td>\n",
              "      <td>0</td>\n",
              "      <td>0</td>\n",
              "      <td>0</td>\n",
              "      <td>0</td>\n",
              "      <td>0</td>\n",
              "      <td>0</td>\n",
              "      <td>0</td>\n",
              "      <td>0</td>\n",
              "      <td>0</td>\n",
              "      <td>0</td>\n",
              "      <td>0</td>\n",
              "      <td>0</td>\n",
              "      <td>0</td>\n",
              "      <td>0</td>\n",
              "      <td>0</td>\n",
              "      <td>0</td>\n",
              "      <td>0</td>\n",
              "    </tr>\n",
              "    <tr>\n",
              "      <th>4</th>\n",
              "      <td>htmllink   check this out</td>\n",
              "      <td>1</td>\n",
              "      <td>0</td>\n",
              "      <td>0</td>\n",
              "      <td>0</td>\n",
              "      <td>0</td>\n",
              "      <td>0</td>\n",
              "      <td>0</td>\n",
              "      <td>1</td>\n",
              "      <td>0</td>\n",
              "      <td>0</td>\n",
              "      <td>0</td>\n",
              "      <td>0</td>\n",
              "      <td>0</td>\n",
              "      <td>0</td>\n",
              "      <td>0</td>\n",
              "      <td>0</td>\n",
              "      <td>0</td>\n",
              "      <td>0</td>\n",
              "      <td>0</td>\n",
              "      <td>0</td>\n",
              "      <td>0</td>\n",
              "      <td>0</td>\n",
              "      <td>0</td>\n",
              "      <td>0</td>\n",
              "      <td>0</td>\n",
              "      <td>0</td>\n",
              "      <td>0</td>\n",
              "      <td>0</td>\n",
              "      <td>0</td>\n",
              "      <td>0</td>\n",
              "      <td>0</td>\n",
              "      <td>0</td>\n",
              "      <td>0</td>\n",
              "      <td>0</td>\n",
              "      <td>0</td>\n",
              "      <td>0</td>\n",
              "      <td>0</td>\n",
              "      <td>0</td>\n",
              "      <td>0</td>\n",
              "      <td>...</td>\n",
              "      <td>0</td>\n",
              "      <td>0</td>\n",
              "      <td>0</td>\n",
              "      <td>0</td>\n",
              "      <td>0</td>\n",
              "      <td>0</td>\n",
              "      <td>0</td>\n",
              "      <td>0</td>\n",
              "      <td>0</td>\n",
              "      <td>0</td>\n",
              "      <td>0</td>\n",
              "      <td>0</td>\n",
              "      <td>0</td>\n",
              "      <td>0</td>\n",
              "      <td>0</td>\n",
              "      <td>0</td>\n",
              "      <td>0</td>\n",
              "      <td>0</td>\n",
              "      <td>0</td>\n",
              "      <td>0</td>\n",
              "      <td>0</td>\n",
              "      <td>0</td>\n",
              "      <td>0</td>\n",
              "      <td>0</td>\n",
              "      <td>0</td>\n",
              "      <td>0</td>\n",
              "      <td>0</td>\n",
              "      <td>0</td>\n",
              "      <td>0</td>\n",
              "      <td>0</td>\n",
              "      <td>0</td>\n",
              "      <td>0</td>\n",
              "      <td>0</td>\n",
              "      <td>0</td>\n",
              "      <td>0</td>\n",
              "      <td>0</td>\n",
              "      <td>0</td>\n",
              "      <td>0</td>\n",
              "      <td>0</td>\n",
              "      <td>0</td>\n",
              "    </tr>\n",
              "  </tbody>\n",
              "</table>\n",
              "<p>5 rows × 3365 columns</p>\n",
              "</div>"
            ],
            "text/plain": [
              "                                             CONTENT  CLASS  ...  linked  renewal\n",
              "0  huh  anyway check out this you tube  channel  ...      1  ...       0        0\n",
              "1  hey guys check out my new channel and our firs...      1  ...       0        0\n",
              "2               just for test i have to say htmllink      1  ...       0        0\n",
              "3    me shaking my sexy ass on my channel enjoy  _        1  ...       0        0\n",
              "4                        htmllink   check this out        1  ...       0        0\n",
              "\n",
              "[5 rows x 3365 columns]"
            ]
          },
          "metadata": {
            "tags": []
          },
          "execution_count": 25
        }
      ]
    },
    {
      "cell_type": "code",
      "metadata": {
        "id": "NHgrNrJOChtt",
        "outputId": "e3d1f531-add4-4f82-befc-1272ffae5039",
        "colab": {
          "base_uri": "https://localhost:8080/",
          "height": 85
        }
      },
      "source": [
        "#Total number of words in each class\n",
        "df.groupby(\"CLASS\").sum().sum(axis=1)"
      ],
      "execution_count": 26,
      "outputs": [
        {
          "output_type": "execute_result",
          "data": {
            "text/plain": [
              "CLASS\n",
              "0     7417\n",
              "1    15560\n",
              "dtype: int64"
            ]
          },
          "metadata": {
            "tags": []
          },
          "execution_count": 26
        }
      ]
    },
    {
      "cell_type": "code",
      "metadata": {
        "id": "BFtPjPHJCkj4"
      },
      "source": [
        "# Assign variables to all values required in calculation\n",
        "p_ham=0.47604\n",
        "p_spam=0.52396\n",
        "n_spam=df[df[\"CLASS\"]==1].drop(columns=[\"CONTENT\",\"CLASS\"]).sum().sum()\n",
        "n_ham=df[df[\"CLASS\"]==0].drop(columns=[\"CONTENT\",\"CLASS\"]).sum().sum()\n",
        "n_vocabulary=len(vocabulary)"
      ],
      "execution_count": 27,
      "outputs": []
    },
    {
      "cell_type": "code",
      "metadata": {
        "id": "zQWlJSRJCnLD"
      },
      "source": [
        "# Slicing dataframe for each class\n",
        "df_sspam=df[df[\"CLASS\"]==1]\n",
        "df_hham=df[df[\"CLASS\"]==0]"
      ],
      "execution_count": 28,
      "outputs": []
    },
    {
      "cell_type": "markdown",
      "metadata": {
        "id": "gurqc0eCY7Yr"
      },
      "source": [
        "Let's create dictionaries to store probabilities of each word in dataframe given its a spam and not spam, so that we can reference values when required"
      ]
    },
    {
      "cell_type": "code",
      "metadata": {
        "id": "rJ3hmwp4EBEI"
      },
      "source": [
        "parameters_spam = {unique_word:0 for unique_word in vocabulary}\n",
        "parameters_ham = {unique_word:0 for unique_word in vocabulary}\n",
        "for word in vocabulary:\n",
        "    n_word_given_spam = df_sspam[word].sum()   # spam_messages already defined in a cell above\n",
        "    p_word_given_spam = (n_word_given_spam + 1) / (n_spam + 1*n_vocabulary)\n",
        "    parameters_spam[word] = p_word_given_spam\n",
        "    n_word_given_ham = df_hham[word].sum()   # ham_messages already defined in a cell above\n",
        "    p_word_given_ham = (n_word_given_ham + 1) / (n_ham + 1*n_vocabulary)\n",
        "    parameters_ham[word] = p_word_given_ham"
      ],
      "execution_count": 29,
      "outputs": []
    },
    {
      "cell_type": "markdown",
      "metadata": {
        "id": "zZhx4o26Zg-V"
      },
      "source": [
        "# 3. Model Testing"
      ]
    },
    {
      "cell_type": "markdown",
      "metadata": {
        "id": "r62DGJIdZnbD"
      },
      "source": [
        "Let's create a function to clean a comment as we did before, calculate probabilities and return the predicted class of that comment"
      ]
    },
    {
      "cell_type": "code",
      "metadata": {
        "id": "UtB48H88EI0f"
      },
      "source": [
        "def classifier(string):\n",
        "    message=html.unescape(string)\n",
        "    message=string.replace(\"\\ufeff\",\"\")\n",
        "    message=string.replace(\"(<a.+>)\",\"htmllink\")\n",
        "    message=string.replace(\"\\'|<.+>\",\"\")\n",
        "    message=string.replace(\"\\S*\\.com\\S*|\\S*watch\\?\\S*\",\"htmllink\")\n",
        "    message=string.replace(\"\\W\",\" \").lower()\n",
        "    p_string_s=1\n",
        "    p_string_h=1\n",
        "    for word in message.split():\n",
        "        if word in parameters_spam:\n",
        "            p_string_s*=parameters_spam[word]\n",
        "            p_string_h*=parameters_ham[word]\n",
        "    if (p_string_s*p_spam)>(p_string_h*p_ham):\n",
        "        return(1)\n",
        "    elif (p_string_s*p_spam)<(p_string_h*p_ham):\n",
        "        return(0)\n",
        "    else:\n",
        "        return(-1)"
      ],
      "execution_count": 30,
      "outputs": []
    },
    {
      "cell_type": "code",
      "metadata": {
        "id": "_6I9b4vAEN93"
      },
      "source": [
        "# Reading the dataframe for testing model\n",
        "df_shakira=pd.read_csv(\"/content/drive/My Drive/Google colab data/Youtube spam/Youtube05-Shakira.csv\")"
      ],
      "execution_count": 31,
      "outputs": []
    },
    {
      "cell_type": "code",
      "metadata": {
        "id": "q6TpzbD0Ef23",
        "outputId": "6c32f1a9-21c3-48ff-c8cb-f2f2815d27da",
        "colab": {
          "base_uri": "https://localhost:8080/",
          "height": 289
        }
      },
      "source": [
        "df_shakira.head()"
      ],
      "execution_count": 32,
      "outputs": [
        {
          "output_type": "execute_result",
          "data": {
            "text/html": [
              "<div>\n",
              "<style scoped>\n",
              "    .dataframe tbody tr th:only-of-type {\n",
              "        vertical-align: middle;\n",
              "    }\n",
              "\n",
              "    .dataframe tbody tr th {\n",
              "        vertical-align: top;\n",
              "    }\n",
              "\n",
              "    .dataframe thead th {\n",
              "        text-align: right;\n",
              "    }\n",
              "</style>\n",
              "<table border=\"1\" class=\"dataframe\">\n",
              "  <thead>\n",
              "    <tr style=\"text-align: right;\">\n",
              "      <th></th>\n",
              "      <th>COMMENT_ID</th>\n",
              "      <th>AUTHOR</th>\n",
              "      <th>DATE</th>\n",
              "      <th>CONTENT</th>\n",
              "      <th>CLASS</th>\n",
              "    </tr>\n",
              "  </thead>\n",
              "  <tbody>\n",
              "    <tr>\n",
              "      <th>0</th>\n",
              "      <td>z13lgffb5w3ddx1ul22qy1wxspy5cpkz504</td>\n",
              "      <td>dharma pal</td>\n",
              "      <td>2015-05-29T02:30:18.971000</td>\n",
              "      <td>Nice song﻿</td>\n",
              "      <td>0</td>\n",
              "    </tr>\n",
              "    <tr>\n",
              "      <th>1</th>\n",
              "      <td>z123dbgb0mqjfxbtz22ucjc5jvzcv3ykj</td>\n",
              "      <td>Tiza Arellano</td>\n",
              "      <td>2015-05-29T00:14:48.748000</td>\n",
              "      <td>I love song ﻿</td>\n",
              "      <td>0</td>\n",
              "    </tr>\n",
              "    <tr>\n",
              "      <th>2</th>\n",
              "      <td>z12quxxp2vutflkxv04cihggzt2azl34pms0k</td>\n",
              "      <td>Prìñçeśś Âliś Łøvê Dømíñø Mâđiś™ ﻿</td>\n",
              "      <td>2015-05-28T21:00:08.607000</td>\n",
              "      <td>I love song ﻿</td>\n",
              "      <td>0</td>\n",
              "    </tr>\n",
              "    <tr>\n",
              "      <th>3</th>\n",
              "      <td>z12icv3ysqvlwth2c23eddlykyqut5z1h</td>\n",
              "      <td>Eric Gonzalez</td>\n",
              "      <td>2015-05-28T20:47:12.193000</td>\n",
              "      <td>860,000,000 lets make it first female to reach...</td>\n",
              "      <td>0</td>\n",
              "    </tr>\n",
              "    <tr>\n",
              "      <th>4</th>\n",
              "      <td>z133stly3kete3tly22petvwdpmghrlli</td>\n",
              "      <td>Analena López</td>\n",
              "      <td>2015-05-28T17:08:29.827000</td>\n",
              "      <td>shakira is best for worldcup﻿</td>\n",
              "      <td>0</td>\n",
              "    </tr>\n",
              "  </tbody>\n",
              "</table>\n",
              "</div>"
            ],
            "text/plain": [
              "                              COMMENT_ID  ... CLASS\n",
              "0    z13lgffb5w3ddx1ul22qy1wxspy5cpkz504  ...     0\n",
              "1      z123dbgb0mqjfxbtz22ucjc5jvzcv3ykj  ...     0\n",
              "2  z12quxxp2vutflkxv04cihggzt2azl34pms0k  ...     0\n",
              "3      z12icv3ysqvlwth2c23eddlykyqut5z1h  ...     0\n",
              "4      z133stly3kete3tly22petvwdpmghrlli  ...     0\n",
              "\n",
              "[5 rows x 5 columns]"
            ]
          },
          "metadata": {
            "tags": []
          },
          "execution_count": 32
        }
      ]
    },
    {
      "cell_type": "code",
      "metadata": {
        "id": "ah3i0IcFEqVX"
      },
      "source": [
        "df_shakira[\"Pred_Class\"]=df_shakira[\"CONTENT\"].apply(classifier)"
      ],
      "execution_count": 33,
      "outputs": []
    },
    {
      "cell_type": "code",
      "metadata": {
        "id": "TsfshOubE0UG",
        "outputId": "d268a3db-1576-4359-a980-b16610996d1c",
        "colab": {
          "base_uri": "https://localhost:8080/",
          "height": 34
        }
      },
      "source": [
        "correct_predictions=0\n",
        "total_rows=0\n",
        "for row in df_shakira.iterrows():\n",
        "    row=row[1]\n",
        "    total_rows+=1\n",
        "    if row[\"CLASS\"]==row[\"Pred_Class\"]:\n",
        "        correct_predictions+=1\n",
        "accuracy=correct_predictions/total_rows\n",
        "print(\"accuracy=\",accuracy)\n"
      ],
      "execution_count": 34,
      "outputs": [
        {
          "output_type": "stream",
          "text": [
            "accuracy= 0.8432432432432433\n"
          ],
          "name": "stdout"
        }
      ]
    },
    {
      "cell_type": "markdown",
      "metadata": {
        "id": "YwnT-b2ibB6o"
      },
      "source": [
        "Our model classified ~85% of the comments correctly. Considering the simplicity of this algorithm, it is a really useful classification model, which is often used in Natural Language processing (NLP) problems\n",
        "\n",
        "However, one of the major drawbacks of naive-bayes classifier is that it does not consider the relationship between features. "
      ]
    }
  ]
}